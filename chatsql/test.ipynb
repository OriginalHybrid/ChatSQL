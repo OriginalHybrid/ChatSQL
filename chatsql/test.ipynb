{
 "cells": [
  {
   "cell_type": "code",
   "execution_count": 23,
   "metadata": {},
   "outputs": [],
   "source": [
    "\n",
    "import os\n",
    "\n",
    "# os.environ['HUGGINGFACEHUB_API_TOKEN'] = ''"
   ]
  },
  {
   "cell_type": "code",
   "execution_count": 35,
   "metadata": {},
   "outputs": [
    {
     "name": "stderr",
     "output_type": "stream",
     "text": [
      "WARNING! max_length is not default parameter.\n",
      "                    max_length was transferred to model_kwargs.\n",
      "                    Please make sure that max_length is what you intended.\n"
     ]
    }
   ],
   "source": [
    "from langchain_huggingface import HuggingFaceEndpoint\n",
    "from langchain import PromptTemplate, HuggingFaceHub\n",
    "model = \"meta-llama/Llama-3.2-1B-Instruct\"\n",
    "model = HuggingFaceEndpoint(\n",
    "        repo_id=model,\n",
    "        max_length=256,\n",
    "        temperature=0.5,\n",
    "    )"
   ]
  },
  {
   "cell_type": "code",
   "execution_count": 36,
   "metadata": {},
   "outputs": [],
   "source": [
    "from langchain.chains import LLMChain\n",
    "from langchain_core.prompts import PromptTemplate"
   ]
  },
  {
   "cell_type": "code",
   "execution_count": 37,
   "metadata": {},
   "outputs": [],
   "source": [
    "question = \"Given a Student table with columns: Name, Roll No. and Grade. write SQL Query to Display name and roll no. of students who have grade A.\"\n",
    "\n",
    "template = \"\"\"Question: {question}\n",
    "\n",
    "Answer: Let's think step by step.\"\"\"\n",
    "\n",
    "prompt = PromptTemplate.from_template(template)"
   ]
  },
  {
   "cell_type": "code",
   "execution_count": 38,
   "metadata": {},
   "outputs": [
    {
     "name": "stdout",
     "output_type": "stream",
     "text": [
      " We need to select the name and roll no. of students who have grade A. We can use the following SQL query to display the desired information.\n",
      "\n",
      "```sql\n",
      "SELECT Name, Roll No. \n",
      "FROM Student \n",
      "WHERE Grade = 'A';\n",
      "```\n",
      "\n",
      "Explanation:\n",
      "\n",
      "- We start with the `SELECT` statement, which specifies what columns we want to retrieve from the database.\n",
      "- We use the `Name` and `Roll No.` columns to display the student's name and roll no.\n",
      "- We use the `WHERE` clause to filter the data. In this case, we want to retrieve students with a grade of 'A'. The `WHERE` clause is used to specify the condition for which rows to include in the result set.\n",
      "- Finally, we use the `FROM` statement to specify the table from which to retrieve the data, which is the `Student` table in this case.\n",
      "\n",
      "When you run this query on the `Student` table, you should see the names and roll nos. of students who have a grade of 'A'. For example, if the table contains the following data:\n",
      "\n",
      "| Name | Roll No. | Grade |\n",
      "|------|---------|-------|\n",
      "| John | 101     | A     |\n",
      "| Emma | 102     | A     |\n",
      "| David | 103     | B     |\n",
      "\n",
      "The query will return:\n",
      "\n",
      "| Name | Roll No. |\n",
      "|------|---------|\n",
      "| John | 101     |\n",
      "| Emma | 102     |\n",
      "\n",
      "Therefore, the student with name John and roll no. 101 has a grade of 'A'. Similarly, the student with name Emma and roll no. 102 has a grade of 'A'.\n"
     ]
    }
   ],
   "source": [
    "llm_chain = prompt | model \n",
    "print(llm_chain.invoke({\"question\": question}))"
   ]
  },
  {
   "cell_type": "code",
   "execution_count": 40,
   "metadata": {},
   "outputs": [],
   "source": [
    "from langchain_cohere import ChatCohere, create_sql_agent \n",
    "from langchain_community.utilities import SQLDatabase"
   ]
  },
  {
   "cell_type": "code",
   "execution_count": 47,
   "metadata": {},
   "outputs": [],
   "source": [
    "from langchain_community.utilities.sql_database import SQLDatabase\n",
    "from sqlalchemy import create_engine\n",
    "import sqlite3\n",
    "\n",
    "dbfilepath = \"/home/himanshulalarya/project/himanshu/code/ChatSQL/student.db\"\n",
    "creator = lambda: sqlite3.connect(f\"file:{dbfilepath}?mode=ro\", uri=True)"
   ]
  },
  {
   "cell_type": "code",
   "execution_count": 48,
   "metadata": {},
   "outputs": [],
   "source": [
    "sqldb =  SQLDatabase(create_engine(\"sqlite:///\", creator=creator))"
   ]
  },
  {
   "cell_type": "code",
   "execution_count": 49,
   "metadata": {},
   "outputs": [
    {
     "data": {
      "text/plain": [
       "<langchain_community.utilities.sql_database.SQLDatabase at 0x7f85d614a800>"
      ]
     },
     "execution_count": 49,
     "metadata": {},
     "output_type": "execute_result"
    }
   ],
   "source": [
    "sqldb"
   ]
  },
  {
   "cell_type": "code",
   "execution_count": 61,
   "metadata": {},
   "outputs": [],
   "source": [
    "sqlite_uri = 'sqlite:///' +dbfilepath\n",
    "db = SQLDatabase.from_uri(sqlite_uri)"
   ]
  },
  {
   "cell_type": "code",
   "execution_count": 94,
   "metadata": {},
   "outputs": [],
   "source": [
    "from langchain_core.prompts import ChatPromptTemplate\n",
    "\n",
    "template = \"\"\"Based on the table schema below, write a SQL query that would answer the user's question:\n",
    "{schema}\n",
    "\n",
    "Question: {question}\n",
    "SQL Query:\"\"\"\n",
    "prompt = ChatPromptTemplate.from_template(template)\n"
   ]
  },
  {
   "cell_type": "code",
   "execution_count": 95,
   "metadata": {},
   "outputs": [],
   "source": [
    "def get_schema(_):\n",
    "    print(type(sqldb))\n",
    "    schema = sqldb.get_table_info()\n",
    "    return schema\n"
   ]
  },
  {
   "cell_type": "code",
   "execution_count": 96,
   "metadata": {},
   "outputs": [
    {
     "name": "stdout",
     "output_type": "stream",
     "text": [
      "<class 'langchain_community.utilities.sql_database.SQLDatabase'>\n"
     ]
    },
    {
     "data": {
      "text/plain": [
       "'\\nCREATE TABLE \"STUDENT\" (\\n\\t\"NAME\" VARCHAR(25), \\n\\t\"CLASS\" VARCHAR(25), \\n\\t\"SECTION\" VARCHAR(25), \\n\\t\"MARKS\" INTEGER\\n)\\n\\n/*\\n3 rows from STUDENT table:\\nNAME\\tCLASS\\tSECTION\\tMARKS\\nKrish\\tData Science\\tA\\t90\\nJohn\\tData Science\\tB\\t100\\nMukesh\\tData Science\\tA\\t86\\n*/'"
      ]
     },
     "execution_count": 96,
     "metadata": {},
     "output_type": "execute_result"
    }
   ],
   "source": [
    "get_schema(db)"
   ]
  },
  {
   "cell_type": "code",
   "execution_count": 97,
   "metadata": {},
   "outputs": [],
   "source": [
    "from langchain_core.output_parsers import StrOutputParser\n",
    "from langchain_core.runnables import RunnablePassthrough\n",
    "\n",
    "llm = model\n",
    "\n",
    "sql_chain = (\n",
    "    RunnablePassthrough.assign(schema=get_schema)\n",
    "    | prompt\n",
    "    | llm.bind(stop=[\"\\nSQLResult:\"])\n",
    "    | StrOutputParser()\n",
    ")\n"
   ]
  },
  {
   "cell_type": "code",
   "execution_count": 107,
   "metadata": {},
   "outputs": [
    {
     "name": "stdout",
     "output_type": "stream",
     "text": [
      "<class 'langchain_community.utilities.sql_database.SQLDatabase'>\n"
     ]
    },
    {
     "data": {
      "text/plain": [
       "' \\nSELECT * FROM STUDENT WHERE MARKS >= 90\\n\\nThis query will return all the rows from the STUDENT table where the MARKS column is greater than or equal to 90. \\n\\nNote: The query does not include the name, class, and section columns, as they are not relevant to the condition of having MARKS greater than or equal to 90. \\n\\nHowever, if you want to include these columns in the result set, you can use the following query:\\n\\nSELECT * FROM STUDENT WHERE MARKS >= 90\\n\\nThis query will return all the rows from the STUDENT table where the MARKS column is greater than or equal to 90. The result set will include the NAME, CLASS, and SECTION columns. \\n\\nFor example, the result set might look like this:\\n\\nNAME\\tCLASS\\tSECTION\\tMARKS\\nKrish\\tData Science\\tA\\t90\\nJohn\\tData Science\\tB\\t100\\nMukesh\\tData Science\\tA\\t86\\n\\nIn this case, all three students have MARKS greater than or equal to 90. \\n\\nIf you want to include only the students with MARKS greater than 90, you can modify the query as follows:\\n\\nSELECT * FROM STUDENT WHERE MARKS > 90\\n\\nThis query will return all the rows from the STUDENT table where the MARKS column is greater than 90. The result set will include the NAME, CLASS, and SECTION columns. \\n\\nFor example, the result set might look like this:\\n\\nNAME\\tCLASS\\tSECTION\\tMARKS\\nKrish\\tData Science\\tA\\t90\\nJohn\\tData Science\\tB\\t100\\n\\nIn this case, only two students have MARKS greater than 90. \\n\\nNote that if you want to include only the students with MARKS greater than 90 and also include the NAME, CLASS, and SECTION columns, you can modify the query as follows:\\n\\nSELECT * FROM STUDENT WHERE MARKS > 90 AND NAME IS NOT NULL AND CLASS IS NOT NULL AND SECTION IS NOT NULL\\n\\nThis query will return all the rows from the STUDENT table where the MARKS column is greater than 90, the NAME column is not NULL, the CLASS column is not NULL, and the SECTION column is not NULL. The result set will include the NAME, CLASS, and SECTION columns. \\n\\nFor example, the result set might look like this:\\n\\nNAME\\tCLASS\\tSECTION\\tMARKS\\nKrish\\tData Science\\tA\\t90\\nJohn\\tData Science\\tB\\t100\\n\\nIn this case, all three students have MARKS greater than 90'"
      ]
     },
     "execution_count": 107,
     "metadata": {},
     "output_type": "execute_result"
    }
   ],
   "source": [
    "user_question = 'show me the students which has got marks greater than or equal to 90'\n",
    "response = sql_chain.invoke({\"question\": user_question})\n",
    "response\n",
    "# 'SELECT COUNT(*) AS TotalAlbums\\nFROM Album;'\n"
   ]
  },
  {
   "cell_type": "code",
   "execution_count": 99,
   "metadata": {},
   "outputs": [],
   "source": [
    "template = \"\"\"Based on the table schema below, question, sql query, and sql response, write a natural language response:\n",
    "{schema}\n",
    "\n",
    "Question: {question}\n",
    "SQL Query: {query}\n",
    "SQL Response: {response}\"\"\"\n",
    "prompt_response = ChatPromptTemplate.from_template(template)\n"
   ]
  },
  {
   "cell_type": "code",
   "execution_count": 100,
   "metadata": {},
   "outputs": [],
   "source": [
    "def run_query(query):\n",
    "    # Simple check for multiple statements (this is a basic approach and may need refinement)\n",
    "    if query.count(';') > 1:\n",
    "        raise ValueError(\"Multiple SQL statements detected. Please execute one statement at a time.\")\n",
    "    return db.run(query)\n"
   ]
  },
  {
   "cell_type": "code",
   "execution_count": 104,
   "metadata": {},
   "outputs": [],
   "source": [
    "full_chain = (\n",
    "    RunnablePassthrough.assign(query=sql_chain).assign(\n",
    "        schema=get_schema,\n",
    "        response=lambda vars: run_query(vars[\"query\"]),\n",
    "    )\n",
    "    | prompt_response\n",
    "    | model\n",
    ")\n"
   ]
  },
  {
   "cell_type": "code",
   "execution_count": 105,
   "metadata": {},
   "outputs": [
    {
     "name": "stderr",
     "output_type": "stream",
     "text": [
      "Exception closing connection <sqlite3.Connection object at 0x7f85d031a040>\n",
      "Traceback (most recent call last):\n",
      "  File \"/home/himanshulalarya/miniconda3/envs/test/lib/python3.10/site-packages/sqlalchemy/pool/base.py\", line 376, in _close_connection\n",
      "    self._dialect.do_close(connection)\n",
      "  File \"/home/himanshulalarya/miniconda3/envs/test/lib/python3.10/site-packages/sqlalchemy/engine/default.py\", line 709, in do_close\n",
      "    dbapi_connection.close()\n",
      "sqlite3.ProgrammingError: SQLite objects created in a thread can only be used in that same thread. The object was created in thread id 140212732687936 and this is thread id 140212753663552.\n"
     ]
    },
    {
     "name": "stdout",
     "output_type": "stream",
     "text": [
      "<class 'langchain_community.utilities.sql_database.SQLDatabase'>\n"
     ]
    },
    {
     "name": "stderr",
     "output_type": "stream",
     "text": [
      "Exception closing connection <sqlite3.Connection object at 0x7f85d3ab1d40>\n",
      "Traceback (most recent call last):\n",
      "  File \"/home/himanshulalarya/miniconda3/envs/test/lib/python3.10/site-packages/sqlalchemy/pool/base.py\", line 376, in _close_connection\n",
      "    self._dialect.do_close(connection)\n",
      "  File \"/home/himanshulalarya/miniconda3/envs/test/lib/python3.10/site-packages/sqlalchemy/engine/default.py\", line 709, in do_close\n",
      "    dbapi_connection.close()\n",
      "sqlite3.ProgrammingError: SQLite objects created in a thread can only be used in that same thread. The object was created in thread id 140226521220928 and this is thread id 140212732687936.\n"
     ]
    },
    {
     "name": "stdout",
     "output_type": "stream",
     "text": [
      "<class 'langchain_community.utilities.sql_database.SQLDatabase'>\n"
     ]
    },
    {
     "ename": "Warning",
     "evalue": "You can only execute one statement at a time.",
     "output_type": "error",
     "traceback": [
      "\u001b[0;31m---------------------------------------------------------------------------\u001b[0m",
      "\u001b[0;31mWarning\u001b[0m                                   Traceback (most recent call last)",
      "Cell \u001b[0;32mIn[105], line 2\u001b[0m\n\u001b[1;32m      1\u001b[0m user_question \u001b[38;5;241m=\u001b[39m \u001b[38;5;124m'\u001b[39m\u001b[38;5;124mshow me all the content of student table?\u001b[39m\u001b[38;5;124m'\u001b[39m\n\u001b[0;32m----> 2\u001b[0m \u001b[43mfull_chain\u001b[49m\u001b[38;5;241;43m.\u001b[39;49m\u001b[43minvoke\u001b[49m\u001b[43m(\u001b[49m\u001b[43m{\u001b[49m\u001b[38;5;124;43m\"\u001b[39;49m\u001b[38;5;124;43mquestion\u001b[39;49m\u001b[38;5;124;43m\"\u001b[39;49m\u001b[43m:\u001b[49m\u001b[43m \u001b[49m\u001b[43muser_question\u001b[49m\u001b[43m}\u001b[49m\u001b[43m)\u001b[49m\n",
      "File \u001b[0;32m~/miniconda3/envs/test/lib/python3.10/site-packages/langchain_core/runnables/base.py:3022\u001b[0m, in \u001b[0;36mRunnableSequence.invoke\u001b[0;34m(self, input, config, **kwargs)\u001b[0m\n\u001b[1;32m   <a href='file:///~/miniconda3/envs/test/lib/python3.10/site-packages/langchain_core/runnables/base.py?line=3019'>3020</a>\u001b[0m             \u001b[39minput\u001b[39m \u001b[39m=\u001b[39m context\u001b[39m.\u001b[39mrun(step\u001b[39m.\u001b[39minvoke, \u001b[39minput\u001b[39m, config, \u001b[39m*\u001b[39m\u001b[39m*\u001b[39mkwargs)\n\u001b[1;32m   <a href='file:///~/miniconda3/envs/test/lib/python3.10/site-packages/langchain_core/runnables/base.py?line=3020'>3021</a>\u001b[0m         \u001b[39melse\u001b[39;00m:\n\u001b[0;32m-> <a href='file:///~/miniconda3/envs/test/lib/python3.10/site-packages/langchain_core/runnables/base.py?line=3021'>3022</a>\u001b[0m             \u001b[39minput\u001b[39m \u001b[39m=\u001b[39m context\u001b[39m.\u001b[39;49mrun(step\u001b[39m.\u001b[39;49minvoke, \u001b[39minput\u001b[39;49m, config)\n\u001b[1;32m   <a href='file:///~/miniconda3/envs/test/lib/python3.10/site-packages/langchain_core/runnables/base.py?line=3022'>3023</a>\u001b[0m \u001b[39m# finish the root run\u001b[39;00m\n\u001b[1;32m   <a href='file:///~/miniconda3/envs/test/lib/python3.10/site-packages/langchain_core/runnables/base.py?line=3023'>3024</a>\u001b[0m \u001b[39mexcept\u001b[39;00m \u001b[39mBaseException\u001b[39;00m \u001b[39mas\u001b[39;00m e:\n",
      "File \u001b[0;32m~/miniconda3/envs/test/lib/python3.10/site-packages/langchain_core/runnables/passthrough.py:494\u001b[0m, in \u001b[0;36mRunnableAssign.invoke\u001b[0;34m(self, input, config, **kwargs)\u001b[0m\n\u001b[1;32m    <a href='file:///~/miniconda3/envs/test/lib/python3.10/site-packages/langchain_core/runnables/passthrough.py?line=487'>488</a>\u001b[0m \u001b[39mdef\u001b[39;00m \u001b[39minvoke\u001b[39m(\n\u001b[1;32m    <a href='file:///~/miniconda3/envs/test/lib/python3.10/site-packages/langchain_core/runnables/passthrough.py?line=488'>489</a>\u001b[0m     \u001b[39mself\u001b[39m,\n\u001b[1;32m    <a href='file:///~/miniconda3/envs/test/lib/python3.10/site-packages/langchain_core/runnables/passthrough.py?line=489'>490</a>\u001b[0m     \u001b[39minput\u001b[39m: \u001b[39mdict\u001b[39m[\u001b[39mstr\u001b[39m, Any],\n\u001b[1;32m    <a href='file:///~/miniconda3/envs/test/lib/python3.10/site-packages/langchain_core/runnables/passthrough.py?line=490'>491</a>\u001b[0m     config: Optional[RunnableConfig] \u001b[39m=\u001b[39m \u001b[39mNone\u001b[39;00m,\n\u001b[1;32m    <a href='file:///~/miniconda3/envs/test/lib/python3.10/site-packages/langchain_core/runnables/passthrough.py?line=491'>492</a>\u001b[0m     \u001b[39m*\u001b[39m\u001b[39m*\u001b[39mkwargs: Any,\n\u001b[1;32m    <a href='file:///~/miniconda3/envs/test/lib/python3.10/site-packages/langchain_core/runnables/passthrough.py?line=492'>493</a>\u001b[0m ) \u001b[39m-\u001b[39m\u001b[39m>\u001b[39m \u001b[39mdict\u001b[39m[\u001b[39mstr\u001b[39m, Any]:\n\u001b[0;32m--> <a href='file:///~/miniconda3/envs/test/lib/python3.10/site-packages/langchain_core/runnables/passthrough.py?line=493'>494</a>\u001b[0m     \u001b[39mreturn\u001b[39;00m \u001b[39mself\u001b[39;49m\u001b[39m.\u001b[39;49m_call_with_config(\u001b[39mself\u001b[39;49m\u001b[39m.\u001b[39;49m_invoke, \u001b[39minput\u001b[39;49m, config, \u001b[39m*\u001b[39;49m\u001b[39m*\u001b[39;49mkwargs)\n",
      "File \u001b[0;32m~/miniconda3/envs/test/lib/python3.10/site-packages/langchain_core/runnables/base.py:1925\u001b[0m, in \u001b[0;36mRunnable._call_with_config\u001b[0;34m(self, func, input, config, run_type, serialized, **kwargs)\u001b[0m\n\u001b[1;32m   <a href='file:///~/miniconda3/envs/test/lib/python3.10/site-packages/langchain_core/runnables/base.py?line=1920'>1921</a>\u001b[0m     context \u001b[39m=\u001b[39m copy_context()\n\u001b[1;32m   <a href='file:///~/miniconda3/envs/test/lib/python3.10/site-packages/langchain_core/runnables/base.py?line=1921'>1922</a>\u001b[0m     context\u001b[39m.\u001b[39mrun(_set_config_context, child_config)\n\u001b[1;32m   <a href='file:///~/miniconda3/envs/test/lib/python3.10/site-packages/langchain_core/runnables/base.py?line=1922'>1923</a>\u001b[0m     output \u001b[39m=\u001b[39m cast(\n\u001b[1;32m   <a href='file:///~/miniconda3/envs/test/lib/python3.10/site-packages/langchain_core/runnables/base.py?line=1923'>1924</a>\u001b[0m         Output,\n\u001b[0;32m-> <a href='file:///~/miniconda3/envs/test/lib/python3.10/site-packages/langchain_core/runnables/base.py?line=1924'>1925</a>\u001b[0m         context\u001b[39m.\u001b[39;49mrun(\n\u001b[1;32m   <a href='file:///~/miniconda3/envs/test/lib/python3.10/site-packages/langchain_core/runnables/base.py?line=1925'>1926</a>\u001b[0m             call_func_with_variable_args,  \u001b[39m# type: ignore[arg-type]\u001b[39;49;00m\n\u001b[1;32m   <a href='file:///~/miniconda3/envs/test/lib/python3.10/site-packages/langchain_core/runnables/base.py?line=1926'>1927</a>\u001b[0m             func,  \u001b[39m# type: ignore[arg-type]\u001b[39;49;00m\n\u001b[1;32m   <a href='file:///~/miniconda3/envs/test/lib/python3.10/site-packages/langchain_core/runnables/base.py?line=1927'>1928</a>\u001b[0m             \u001b[39minput\u001b[39;49m,  \u001b[39m# type: ignore[arg-type]\u001b[39;49;00m\n\u001b[1;32m   <a href='file:///~/miniconda3/envs/test/lib/python3.10/site-packages/langchain_core/runnables/base.py?line=1928'>1929</a>\u001b[0m             config,\n\u001b[1;32m   <a href='file:///~/miniconda3/envs/test/lib/python3.10/site-packages/langchain_core/runnables/base.py?line=1929'>1930</a>\u001b[0m             run_manager,\n\u001b[1;32m   <a href='file:///~/miniconda3/envs/test/lib/python3.10/site-packages/langchain_core/runnables/base.py?line=1930'>1931</a>\u001b[0m             \u001b[39m*\u001b[39;49m\u001b[39m*\u001b[39;49mkwargs,\n\u001b[1;32m   <a href='file:///~/miniconda3/envs/test/lib/python3.10/site-packages/langchain_core/runnables/base.py?line=1931'>1932</a>\u001b[0m         ),\n\u001b[1;32m   <a href='file:///~/miniconda3/envs/test/lib/python3.10/site-packages/langchain_core/runnables/base.py?line=1932'>1933</a>\u001b[0m     )\n\u001b[1;32m   <a href='file:///~/miniconda3/envs/test/lib/python3.10/site-packages/langchain_core/runnables/base.py?line=1933'>1934</a>\u001b[0m \u001b[39mexcept\u001b[39;00m \u001b[39mBaseException\u001b[39;00m \u001b[39mas\u001b[39;00m e:\n\u001b[1;32m   <a href='file:///~/miniconda3/envs/test/lib/python3.10/site-packages/langchain_core/runnables/base.py?line=1934'>1935</a>\u001b[0m     run_manager\u001b[39m.\u001b[39mon_chain_error(e)\n",
      "File \u001b[0;32m~/miniconda3/envs/test/lib/python3.10/site-packages/langchain_core/runnables/config.py:396\u001b[0m, in \u001b[0;36mcall_func_with_variable_args\u001b[0;34m(func, input, config, run_manager, **kwargs)\u001b[0m\n\u001b[1;32m    <a href='file:///~/miniconda3/envs/test/lib/python3.10/site-packages/langchain_core/runnables/config.py?line=393'>394</a>\u001b[0m \u001b[39mif\u001b[39;00m run_manager \u001b[39mis\u001b[39;00m \u001b[39mnot\u001b[39;00m \u001b[39mNone\u001b[39;00m \u001b[39mand\u001b[39;00m accepts_run_manager(func):\n\u001b[1;32m    <a href='file:///~/miniconda3/envs/test/lib/python3.10/site-packages/langchain_core/runnables/config.py?line=394'>395</a>\u001b[0m     kwargs[\u001b[39m\"\u001b[39m\u001b[39mrun_manager\u001b[39m\u001b[39m\"\u001b[39m] \u001b[39m=\u001b[39m run_manager\n\u001b[0;32m--> <a href='file:///~/miniconda3/envs/test/lib/python3.10/site-packages/langchain_core/runnables/config.py?line=395'>396</a>\u001b[0m \u001b[39mreturn\u001b[39;00m func(\u001b[39minput\u001b[39;49m, \u001b[39m*\u001b[39;49m\u001b[39m*\u001b[39;49mkwargs)\n",
      "File \u001b[0;32m~/miniconda3/envs/test/lib/python3.10/site-packages/langchain_core/runnables/passthrough.py:481\u001b[0m, in \u001b[0;36mRunnableAssign._invoke\u001b[0;34m(self, input, run_manager, config, **kwargs)\u001b[0m\n\u001b[1;32m    <a href='file:///~/miniconda3/envs/test/lib/python3.10/site-packages/langchain_core/runnables/passthrough.py?line=467'>468</a>\u001b[0m \u001b[39mdef\u001b[39;00m \u001b[39m_invoke\u001b[39m(\n\u001b[1;32m    <a href='file:///~/miniconda3/envs/test/lib/python3.10/site-packages/langchain_core/runnables/passthrough.py?line=468'>469</a>\u001b[0m     \u001b[39mself\u001b[39m,\n\u001b[1;32m    <a href='file:///~/miniconda3/envs/test/lib/python3.10/site-packages/langchain_core/runnables/passthrough.py?line=469'>470</a>\u001b[0m     \u001b[39minput\u001b[39m: \u001b[39mdict\u001b[39m[\u001b[39mstr\u001b[39m, Any],\n\u001b[0;32m   (...)\u001b[0m\n\u001b[1;32m    <a href='file:///~/miniconda3/envs/test/lib/python3.10/site-packages/langchain_core/runnables/passthrough.py?line=472'>473</a>\u001b[0m     \u001b[39m*\u001b[39m\u001b[39m*\u001b[39mkwargs: Any,\n\u001b[1;32m    <a href='file:///~/miniconda3/envs/test/lib/python3.10/site-packages/langchain_core/runnables/passthrough.py?line=473'>474</a>\u001b[0m ) \u001b[39m-\u001b[39m\u001b[39m>\u001b[39m \u001b[39mdict\u001b[39m[\u001b[39mstr\u001b[39m, Any]:\n\u001b[1;32m    <a href='file:///~/miniconda3/envs/test/lib/python3.10/site-packages/langchain_core/runnables/passthrough.py?line=474'>475</a>\u001b[0m     \u001b[39massert\u001b[39;00m \u001b[39misinstance\u001b[39m(\n\u001b[1;32m    <a href='file:///~/miniconda3/envs/test/lib/python3.10/site-packages/langchain_core/runnables/passthrough.py?line=475'>476</a>\u001b[0m         \u001b[39minput\u001b[39m, \u001b[39mdict\u001b[39m\n\u001b[1;32m    <a href='file:///~/miniconda3/envs/test/lib/python3.10/site-packages/langchain_core/runnables/passthrough.py?line=476'>477</a>\u001b[0m     ), \u001b[39m\"\u001b[39m\u001b[39mThe input to RunnablePassthrough.assign() must be a dict.\u001b[39m\u001b[39m\"\u001b[39m\n\u001b[1;32m    <a href='file:///~/miniconda3/envs/test/lib/python3.10/site-packages/langchain_core/runnables/passthrough.py?line=478'>479</a>\u001b[0m     \u001b[39mreturn\u001b[39;00m {\n\u001b[1;32m    <a href='file:///~/miniconda3/envs/test/lib/python3.10/site-packages/langchain_core/runnables/passthrough.py?line=479'>480</a>\u001b[0m         \u001b[39m*\u001b[39m\u001b[39m*\u001b[39m\u001b[39minput\u001b[39m,\n\u001b[0;32m--> <a href='file:///~/miniconda3/envs/test/lib/python3.10/site-packages/langchain_core/runnables/passthrough.py?line=480'>481</a>\u001b[0m         \u001b[39m*\u001b[39m\u001b[39m*\u001b[39m\u001b[39mself\u001b[39;49m\u001b[39m.\u001b[39;49mmapper\u001b[39m.\u001b[39;49minvoke(\n\u001b[1;32m    <a href='file:///~/miniconda3/envs/test/lib/python3.10/site-packages/langchain_core/runnables/passthrough.py?line=481'>482</a>\u001b[0m             \u001b[39minput\u001b[39;49m,\n\u001b[1;32m    <a href='file:///~/miniconda3/envs/test/lib/python3.10/site-packages/langchain_core/runnables/passthrough.py?line=482'>483</a>\u001b[0m             patch_config(config, callbacks\u001b[39m=\u001b[39;49mrun_manager\u001b[39m.\u001b[39;49mget_child()),\n\u001b[1;32m    <a href='file:///~/miniconda3/envs/test/lib/python3.10/site-packages/langchain_core/runnables/passthrough.py?line=483'>484</a>\u001b[0m             \u001b[39m*\u001b[39;49m\u001b[39m*\u001b[39;49mkwargs,\n\u001b[1;32m    <a href='file:///~/miniconda3/envs/test/lib/python3.10/site-packages/langchain_core/runnables/passthrough.py?line=484'>485</a>\u001b[0m         ),\n\u001b[1;32m    <a href='file:///~/miniconda3/envs/test/lib/python3.10/site-packages/langchain_core/runnables/passthrough.py?line=485'>486</a>\u001b[0m     }\n",
      "File \u001b[0;32m~/miniconda3/envs/test/lib/python3.10/site-packages/langchain_core/runnables/base.py:3725\u001b[0m, in \u001b[0;36mRunnableParallel.invoke\u001b[0;34m(self, input, config, **kwargs)\u001b[0m\n\u001b[1;32m   <a href='file:///~/miniconda3/envs/test/lib/python3.10/site-packages/langchain_core/runnables/base.py?line=3719'>3720</a>\u001b[0m     \u001b[39mwith\u001b[39;00m get_executor_for_config(config) \u001b[39mas\u001b[39;00m executor:\n\u001b[1;32m   <a href='file:///~/miniconda3/envs/test/lib/python3.10/site-packages/langchain_core/runnables/base.py?line=3720'>3721</a>\u001b[0m         futures \u001b[39m=\u001b[39m [\n\u001b[1;32m   <a href='file:///~/miniconda3/envs/test/lib/python3.10/site-packages/langchain_core/runnables/base.py?line=3721'>3722</a>\u001b[0m             executor\u001b[39m.\u001b[39msubmit(_invoke_step, step, \u001b[39minput\u001b[39m, config, key)\n\u001b[1;32m   <a href='file:///~/miniconda3/envs/test/lib/python3.10/site-packages/langchain_core/runnables/base.py?line=3722'>3723</a>\u001b[0m             \u001b[39mfor\u001b[39;00m key, step \u001b[39min\u001b[39;00m steps\u001b[39m.\u001b[39mitems()\n\u001b[1;32m   <a href='file:///~/miniconda3/envs/test/lib/python3.10/site-packages/langchain_core/runnables/base.py?line=3723'>3724</a>\u001b[0m         ]\n\u001b[0;32m-> <a href='file:///~/miniconda3/envs/test/lib/python3.10/site-packages/langchain_core/runnables/base.py?line=3724'>3725</a>\u001b[0m         output \u001b[39m=\u001b[39m {key: future\u001b[39m.\u001b[39mresult() \u001b[39mfor\u001b[39;00m key, future \u001b[39min\u001b[39;00m \u001b[39mzip\u001b[39m(steps, futures)}\n\u001b[1;32m   <a href='file:///~/miniconda3/envs/test/lib/python3.10/site-packages/langchain_core/runnables/base.py?line=3725'>3726</a>\u001b[0m \u001b[39m# finish the root run\u001b[39;00m\n\u001b[1;32m   <a href='file:///~/miniconda3/envs/test/lib/python3.10/site-packages/langchain_core/runnables/base.py?line=3726'>3727</a>\u001b[0m \u001b[39mexcept\u001b[39;00m \u001b[39mBaseException\u001b[39;00m \u001b[39mas\u001b[39;00m e:\n",
      "File \u001b[0;32m~/miniconda3/envs/test/lib/python3.10/site-packages/langchain_core/runnables/base.py:3725\u001b[0m, in \u001b[0;36m<dictcomp>\u001b[0;34m(.0)\u001b[0m\n\u001b[1;32m   <a href='file:///~/miniconda3/envs/test/lib/python3.10/site-packages/langchain_core/runnables/base.py?line=3719'>3720</a>\u001b[0m     \u001b[39mwith\u001b[39;00m get_executor_for_config(config) \u001b[39mas\u001b[39;00m executor:\n\u001b[1;32m   <a href='file:///~/miniconda3/envs/test/lib/python3.10/site-packages/langchain_core/runnables/base.py?line=3720'>3721</a>\u001b[0m         futures \u001b[39m=\u001b[39m [\n\u001b[1;32m   <a href='file:///~/miniconda3/envs/test/lib/python3.10/site-packages/langchain_core/runnables/base.py?line=3721'>3722</a>\u001b[0m             executor\u001b[39m.\u001b[39msubmit(_invoke_step, step, \u001b[39minput\u001b[39m, config, key)\n\u001b[1;32m   <a href='file:///~/miniconda3/envs/test/lib/python3.10/site-packages/langchain_core/runnables/base.py?line=3722'>3723</a>\u001b[0m             \u001b[39mfor\u001b[39;00m key, step \u001b[39min\u001b[39;00m steps\u001b[39m.\u001b[39mitems()\n\u001b[1;32m   <a href='file:///~/miniconda3/envs/test/lib/python3.10/site-packages/langchain_core/runnables/base.py?line=3723'>3724</a>\u001b[0m         ]\n\u001b[0;32m-> <a href='file:///~/miniconda3/envs/test/lib/python3.10/site-packages/langchain_core/runnables/base.py?line=3724'>3725</a>\u001b[0m         output \u001b[39m=\u001b[39m {key: future\u001b[39m.\u001b[39;49mresult() \u001b[39mfor\u001b[39;00m key, future \u001b[39min\u001b[39;00m \u001b[39mzip\u001b[39m(steps, futures)}\n\u001b[1;32m   <a href='file:///~/miniconda3/envs/test/lib/python3.10/site-packages/langchain_core/runnables/base.py?line=3725'>3726</a>\u001b[0m \u001b[39m# finish the root run\u001b[39;00m\n\u001b[1;32m   <a href='file:///~/miniconda3/envs/test/lib/python3.10/site-packages/langchain_core/runnables/base.py?line=3726'>3727</a>\u001b[0m \u001b[39mexcept\u001b[39;00m \u001b[39mBaseException\u001b[39;00m \u001b[39mas\u001b[39;00m e:\n",
      "File \u001b[0;32m~/miniconda3/envs/test/lib/python3.10/concurrent/futures/_base.py:451\u001b[0m, in \u001b[0;36mFuture.result\u001b[0;34m(self, timeout)\u001b[0m\n\u001b[1;32m    <a href='file:///~/miniconda3/envs/test/lib/python3.10/concurrent/futures/_base.py?line=448'>449</a>\u001b[0m     \u001b[39mraise\u001b[39;00m CancelledError()\n\u001b[1;32m    <a href='file:///~/miniconda3/envs/test/lib/python3.10/concurrent/futures/_base.py?line=449'>450</a>\u001b[0m \u001b[39melif\u001b[39;00m \u001b[39mself\u001b[39m\u001b[39m.\u001b[39m_state \u001b[39m==\u001b[39m FINISHED:\n\u001b[0;32m--> <a href='file:///~/miniconda3/envs/test/lib/python3.10/concurrent/futures/_base.py?line=450'>451</a>\u001b[0m     \u001b[39mreturn\u001b[39;00m \u001b[39mself\u001b[39;49m\u001b[39m.\u001b[39;49m__get_result()\n\u001b[1;32m    <a href='file:///~/miniconda3/envs/test/lib/python3.10/concurrent/futures/_base.py?line=452'>453</a>\u001b[0m \u001b[39mself\u001b[39m\u001b[39m.\u001b[39m_condition\u001b[39m.\u001b[39mwait(timeout)\n\u001b[1;32m    <a href='file:///~/miniconda3/envs/test/lib/python3.10/concurrent/futures/_base.py?line=454'>455</a>\u001b[0m \u001b[39mif\u001b[39;00m \u001b[39mself\u001b[39m\u001b[39m.\u001b[39m_state \u001b[39min\u001b[39;00m [CANCELLED, CANCELLED_AND_NOTIFIED]:\n",
      "File \u001b[0;32m~/miniconda3/envs/test/lib/python3.10/concurrent/futures/_base.py:403\u001b[0m, in \u001b[0;36mFuture.__get_result\u001b[0;34m(self)\u001b[0m\n\u001b[1;32m    <a href='file:///~/miniconda3/envs/test/lib/python3.10/concurrent/futures/_base.py?line=400'>401</a>\u001b[0m \u001b[39mif\u001b[39;00m \u001b[39mself\u001b[39m\u001b[39m.\u001b[39m_exception:\n\u001b[1;32m    <a href='file:///~/miniconda3/envs/test/lib/python3.10/concurrent/futures/_base.py?line=401'>402</a>\u001b[0m     \u001b[39mtry\u001b[39;00m:\n\u001b[0;32m--> <a href='file:///~/miniconda3/envs/test/lib/python3.10/concurrent/futures/_base.py?line=402'>403</a>\u001b[0m         \u001b[39mraise\u001b[39;00m \u001b[39mself\u001b[39m\u001b[39m.\u001b[39m_exception\n\u001b[1;32m    <a href='file:///~/miniconda3/envs/test/lib/python3.10/concurrent/futures/_base.py?line=403'>404</a>\u001b[0m     \u001b[39mfinally\u001b[39;00m:\n\u001b[1;32m    <a href='file:///~/miniconda3/envs/test/lib/python3.10/concurrent/futures/_base.py?line=404'>405</a>\u001b[0m         \u001b[39m# Break a reference cycle with the exception in self._exception\u001b[39;00m\n\u001b[1;32m    <a href='file:///~/miniconda3/envs/test/lib/python3.10/concurrent/futures/_base.py?line=405'>406</a>\u001b[0m         \u001b[39mself\u001b[39m \u001b[39m=\u001b[39m \u001b[39mNone\u001b[39;00m\n",
      "File \u001b[0;32m~/miniconda3/envs/test/lib/python3.10/concurrent/futures/thread.py:58\u001b[0m, in \u001b[0;36m_WorkItem.run\u001b[0;34m(self)\u001b[0m\n\u001b[1;32m     <a href='file:///~/miniconda3/envs/test/lib/python3.10/concurrent/futures/thread.py?line=54'>55</a>\u001b[0m     \u001b[39mreturn\u001b[39;00m\n\u001b[1;32m     <a href='file:///~/miniconda3/envs/test/lib/python3.10/concurrent/futures/thread.py?line=56'>57</a>\u001b[0m \u001b[39mtry\u001b[39;00m:\n\u001b[0;32m---> <a href='file:///~/miniconda3/envs/test/lib/python3.10/concurrent/futures/thread.py?line=57'>58</a>\u001b[0m     result \u001b[39m=\u001b[39m \u001b[39mself\u001b[39;49m\u001b[39m.\u001b[39;49mfn(\u001b[39m*\u001b[39;49m\u001b[39mself\u001b[39;49m\u001b[39m.\u001b[39;49margs, \u001b[39m*\u001b[39;49m\u001b[39m*\u001b[39;49m\u001b[39mself\u001b[39;49m\u001b[39m.\u001b[39;49mkwargs)\n\u001b[1;32m     <a href='file:///~/miniconda3/envs/test/lib/python3.10/concurrent/futures/thread.py?line=58'>59</a>\u001b[0m \u001b[39mexcept\u001b[39;00m \u001b[39mBaseException\u001b[39;00m \u001b[39mas\u001b[39;00m exc:\n\u001b[1;32m     <a href='file:///~/miniconda3/envs/test/lib/python3.10/concurrent/futures/thread.py?line=59'>60</a>\u001b[0m     \u001b[39mself\u001b[39m\u001b[39m.\u001b[39mfuture\u001b[39m.\u001b[39mset_exception(exc)\n",
      "File \u001b[0;32m~/miniconda3/envs/test/lib/python3.10/site-packages/langchain_core/runnables/base.py:3709\u001b[0m, in \u001b[0;36mRunnableParallel.invoke.<locals>._invoke_step\u001b[0;34m(step, input, config, key)\u001b[0m\n\u001b[1;32m   <a href='file:///~/miniconda3/envs/test/lib/python3.10/site-packages/langchain_core/runnables/base.py?line=3706'>3707</a>\u001b[0m context \u001b[39m=\u001b[39m copy_context()\n\u001b[1;32m   <a href='file:///~/miniconda3/envs/test/lib/python3.10/site-packages/langchain_core/runnables/base.py?line=3707'>3708</a>\u001b[0m context\u001b[39m.\u001b[39mrun(_set_config_context, child_config)\n\u001b[0;32m-> <a href='file:///~/miniconda3/envs/test/lib/python3.10/site-packages/langchain_core/runnables/base.py?line=3708'>3709</a>\u001b[0m \u001b[39mreturn\u001b[39;00m context\u001b[39m.\u001b[39;49mrun(\n\u001b[1;32m   <a href='file:///~/miniconda3/envs/test/lib/python3.10/site-packages/langchain_core/runnables/base.py?line=3709'>3710</a>\u001b[0m     step\u001b[39m.\u001b[39;49minvoke,\n\u001b[1;32m   <a href='file:///~/miniconda3/envs/test/lib/python3.10/site-packages/langchain_core/runnables/base.py?line=3710'>3711</a>\u001b[0m     \u001b[39minput\u001b[39;49m,\n\u001b[1;32m   <a href='file:///~/miniconda3/envs/test/lib/python3.10/site-packages/langchain_core/runnables/base.py?line=3711'>3712</a>\u001b[0m     child_config,\n\u001b[1;32m   <a href='file:///~/miniconda3/envs/test/lib/python3.10/site-packages/langchain_core/runnables/base.py?line=3712'>3713</a>\u001b[0m )\n",
      "File \u001b[0;32m~/miniconda3/envs/test/lib/python3.10/site-packages/langchain_core/runnables/base.py:4711\u001b[0m, in \u001b[0;36mRunnableLambda.invoke\u001b[0;34m(self, input, config, **kwargs)\u001b[0m\n\u001b[1;32m   <a href='file:///~/miniconda3/envs/test/lib/python3.10/site-packages/langchain_core/runnables/base.py?line=4696'>4697</a>\u001b[0m \u001b[39m\u001b[39m\u001b[39m\"\"\"Invoke this Runnable synchronously.\u001b[39;00m\n\u001b[1;32m   <a href='file:///~/miniconda3/envs/test/lib/python3.10/site-packages/langchain_core/runnables/base.py?line=4697'>4698</a>\u001b[0m \n\u001b[1;32m   <a href='file:///~/miniconda3/envs/test/lib/python3.10/site-packages/langchain_core/runnables/base.py?line=4698'>4699</a>\u001b[0m \u001b[39mArgs:\u001b[39;00m\n\u001b[0;32m   (...)\u001b[0m\n\u001b[1;32m   <a href='file:///~/miniconda3/envs/test/lib/python3.10/site-packages/langchain_core/runnables/base.py?line=4707'>4708</a>\u001b[0m \u001b[39m    TypeError: If the Runnable is a coroutine function.\u001b[39;00m\n\u001b[1;32m   <a href='file:///~/miniconda3/envs/test/lib/python3.10/site-packages/langchain_core/runnables/base.py?line=4708'>4709</a>\u001b[0m \u001b[39m\"\"\"\u001b[39;00m\n\u001b[1;32m   <a href='file:///~/miniconda3/envs/test/lib/python3.10/site-packages/langchain_core/runnables/base.py?line=4709'>4710</a>\u001b[0m \u001b[39mif\u001b[39;00m \u001b[39mhasattr\u001b[39m(\u001b[39mself\u001b[39m, \u001b[39m\"\u001b[39m\u001b[39mfunc\u001b[39m\u001b[39m\"\u001b[39m):\n\u001b[0;32m-> <a href='file:///~/miniconda3/envs/test/lib/python3.10/site-packages/langchain_core/runnables/base.py?line=4710'>4711</a>\u001b[0m     \u001b[39mreturn\u001b[39;00m \u001b[39mself\u001b[39;49m\u001b[39m.\u001b[39;49m_call_with_config(\n\u001b[1;32m   <a href='file:///~/miniconda3/envs/test/lib/python3.10/site-packages/langchain_core/runnables/base.py?line=4711'>4712</a>\u001b[0m         \u001b[39mself\u001b[39;49m\u001b[39m.\u001b[39;49m_invoke,\n\u001b[1;32m   <a href='file:///~/miniconda3/envs/test/lib/python3.10/site-packages/langchain_core/runnables/base.py?line=4712'>4713</a>\u001b[0m         \u001b[39minput\u001b[39;49m,\n\u001b[1;32m   <a href='file:///~/miniconda3/envs/test/lib/python3.10/site-packages/langchain_core/runnables/base.py?line=4713'>4714</a>\u001b[0m         \u001b[39mself\u001b[39;49m\u001b[39m.\u001b[39;49m_config(config, \u001b[39mself\u001b[39;49m\u001b[39m.\u001b[39;49mfunc),\n\u001b[1;32m   <a href='file:///~/miniconda3/envs/test/lib/python3.10/site-packages/langchain_core/runnables/base.py?line=4714'>4715</a>\u001b[0m         \u001b[39m*\u001b[39;49m\u001b[39m*\u001b[39;49mkwargs,\n\u001b[1;32m   <a href='file:///~/miniconda3/envs/test/lib/python3.10/site-packages/langchain_core/runnables/base.py?line=4715'>4716</a>\u001b[0m     )\n\u001b[1;32m   <a href='file:///~/miniconda3/envs/test/lib/python3.10/site-packages/langchain_core/runnables/base.py?line=4716'>4717</a>\u001b[0m \u001b[39melse\u001b[39;00m:\n\u001b[1;32m   <a href='file:///~/miniconda3/envs/test/lib/python3.10/site-packages/langchain_core/runnables/base.py?line=4717'>4718</a>\u001b[0m     msg \u001b[39m=\u001b[39m (\n\u001b[1;32m   <a href='file:///~/miniconda3/envs/test/lib/python3.10/site-packages/langchain_core/runnables/base.py?line=4718'>4719</a>\u001b[0m         \u001b[39m\"\u001b[39m\u001b[39mCannot invoke a coroutine function synchronously.\u001b[39m\u001b[39m\"\u001b[39m\n\u001b[1;32m   <a href='file:///~/miniconda3/envs/test/lib/python3.10/site-packages/langchain_core/runnables/base.py?line=4719'>4720</a>\u001b[0m         \u001b[39m\"\u001b[39m\u001b[39mUse `ainvoke` instead.\u001b[39m\u001b[39m\"\u001b[39m\n\u001b[1;32m   <a href='file:///~/miniconda3/envs/test/lib/python3.10/site-packages/langchain_core/runnables/base.py?line=4720'>4721</a>\u001b[0m     )\n",
      "File \u001b[0;32m~/miniconda3/envs/test/lib/python3.10/site-packages/langchain_core/runnables/base.py:1925\u001b[0m, in \u001b[0;36mRunnable._call_with_config\u001b[0;34m(self, func, input, config, run_type, serialized, **kwargs)\u001b[0m\n\u001b[1;32m   <a href='file:///~/miniconda3/envs/test/lib/python3.10/site-packages/langchain_core/runnables/base.py?line=1920'>1921</a>\u001b[0m     context \u001b[39m=\u001b[39m copy_context()\n\u001b[1;32m   <a href='file:///~/miniconda3/envs/test/lib/python3.10/site-packages/langchain_core/runnables/base.py?line=1921'>1922</a>\u001b[0m     context\u001b[39m.\u001b[39mrun(_set_config_context, child_config)\n\u001b[1;32m   <a href='file:///~/miniconda3/envs/test/lib/python3.10/site-packages/langchain_core/runnables/base.py?line=1922'>1923</a>\u001b[0m     output \u001b[39m=\u001b[39m cast(\n\u001b[1;32m   <a href='file:///~/miniconda3/envs/test/lib/python3.10/site-packages/langchain_core/runnables/base.py?line=1923'>1924</a>\u001b[0m         Output,\n\u001b[0;32m-> <a href='file:///~/miniconda3/envs/test/lib/python3.10/site-packages/langchain_core/runnables/base.py?line=1924'>1925</a>\u001b[0m         context\u001b[39m.\u001b[39;49mrun(\n\u001b[1;32m   <a href='file:///~/miniconda3/envs/test/lib/python3.10/site-packages/langchain_core/runnables/base.py?line=1925'>1926</a>\u001b[0m             call_func_with_variable_args,  \u001b[39m# type: ignore[arg-type]\u001b[39;49;00m\n\u001b[1;32m   <a href='file:///~/miniconda3/envs/test/lib/python3.10/site-packages/langchain_core/runnables/base.py?line=1926'>1927</a>\u001b[0m             func,  \u001b[39m# type: ignore[arg-type]\u001b[39;49;00m\n\u001b[1;32m   <a href='file:///~/miniconda3/envs/test/lib/python3.10/site-packages/langchain_core/runnables/base.py?line=1927'>1928</a>\u001b[0m             \u001b[39minput\u001b[39;49m,  \u001b[39m# type: ignore[arg-type]\u001b[39;49;00m\n\u001b[1;32m   <a href='file:///~/miniconda3/envs/test/lib/python3.10/site-packages/langchain_core/runnables/base.py?line=1928'>1929</a>\u001b[0m             config,\n\u001b[1;32m   <a href='file:///~/miniconda3/envs/test/lib/python3.10/site-packages/langchain_core/runnables/base.py?line=1929'>1930</a>\u001b[0m             run_manager,\n\u001b[1;32m   <a href='file:///~/miniconda3/envs/test/lib/python3.10/site-packages/langchain_core/runnables/base.py?line=1930'>1931</a>\u001b[0m             \u001b[39m*\u001b[39;49m\u001b[39m*\u001b[39;49mkwargs,\n\u001b[1;32m   <a href='file:///~/miniconda3/envs/test/lib/python3.10/site-packages/langchain_core/runnables/base.py?line=1931'>1932</a>\u001b[0m         ),\n\u001b[1;32m   <a href='file:///~/miniconda3/envs/test/lib/python3.10/site-packages/langchain_core/runnables/base.py?line=1932'>1933</a>\u001b[0m     )\n\u001b[1;32m   <a href='file:///~/miniconda3/envs/test/lib/python3.10/site-packages/langchain_core/runnables/base.py?line=1933'>1934</a>\u001b[0m \u001b[39mexcept\u001b[39;00m \u001b[39mBaseException\u001b[39;00m \u001b[39mas\u001b[39;00m e:\n\u001b[1;32m   <a href='file:///~/miniconda3/envs/test/lib/python3.10/site-packages/langchain_core/runnables/base.py?line=1934'>1935</a>\u001b[0m     run_manager\u001b[39m.\u001b[39mon_chain_error(e)\n",
      "File \u001b[0;32m~/miniconda3/envs/test/lib/python3.10/site-packages/langchain_core/runnables/config.py:396\u001b[0m, in \u001b[0;36mcall_func_with_variable_args\u001b[0;34m(func, input, config, run_manager, **kwargs)\u001b[0m\n\u001b[1;32m    <a href='file:///~/miniconda3/envs/test/lib/python3.10/site-packages/langchain_core/runnables/config.py?line=393'>394</a>\u001b[0m \u001b[39mif\u001b[39;00m run_manager \u001b[39mis\u001b[39;00m \u001b[39mnot\u001b[39;00m \u001b[39mNone\u001b[39;00m \u001b[39mand\u001b[39;00m accepts_run_manager(func):\n\u001b[1;32m    <a href='file:///~/miniconda3/envs/test/lib/python3.10/site-packages/langchain_core/runnables/config.py?line=394'>395</a>\u001b[0m     kwargs[\u001b[39m\"\u001b[39m\u001b[39mrun_manager\u001b[39m\u001b[39m\"\u001b[39m] \u001b[39m=\u001b[39m run_manager\n\u001b[0;32m--> <a href='file:///~/miniconda3/envs/test/lib/python3.10/site-packages/langchain_core/runnables/config.py?line=395'>396</a>\u001b[0m \u001b[39mreturn\u001b[39;00m func(\u001b[39minput\u001b[39;49m, \u001b[39m*\u001b[39;49m\u001b[39m*\u001b[39;49mkwargs)\n",
      "File \u001b[0;32m~/miniconda3/envs/test/lib/python3.10/site-packages/langchain_core/runnables/base.py:4565\u001b[0m, in \u001b[0;36mRunnableLambda._invoke\u001b[0;34m(self, input, run_manager, config, **kwargs)\u001b[0m\n\u001b[1;32m   <a href='file:///~/miniconda3/envs/test/lib/python3.10/site-packages/langchain_core/runnables/base.py?line=4562'>4563</a>\u001b[0m                 output \u001b[39m=\u001b[39m chunk\n\u001b[1;32m   <a href='file:///~/miniconda3/envs/test/lib/python3.10/site-packages/langchain_core/runnables/base.py?line=4563'>4564</a>\u001b[0m \u001b[39melse\u001b[39;00m:\n\u001b[0;32m-> <a href='file:///~/miniconda3/envs/test/lib/python3.10/site-packages/langchain_core/runnables/base.py?line=4564'>4565</a>\u001b[0m     output \u001b[39m=\u001b[39m call_func_with_variable_args(\n\u001b[1;32m   <a href='file:///~/miniconda3/envs/test/lib/python3.10/site-packages/langchain_core/runnables/base.py?line=4565'>4566</a>\u001b[0m         \u001b[39mself\u001b[39;49m\u001b[39m.\u001b[39;49mfunc, \u001b[39minput\u001b[39;49m, config, run_manager, \u001b[39m*\u001b[39;49m\u001b[39m*\u001b[39;49mkwargs\n\u001b[1;32m   <a href='file:///~/miniconda3/envs/test/lib/python3.10/site-packages/langchain_core/runnables/base.py?line=4566'>4567</a>\u001b[0m     )\n\u001b[1;32m   <a href='file:///~/miniconda3/envs/test/lib/python3.10/site-packages/langchain_core/runnables/base.py?line=4567'>4568</a>\u001b[0m \u001b[39m# If the output is a Runnable, invoke it\u001b[39;00m\n\u001b[1;32m   <a href='file:///~/miniconda3/envs/test/lib/python3.10/site-packages/langchain_core/runnables/base.py?line=4568'>4569</a>\u001b[0m \u001b[39mif\u001b[39;00m \u001b[39misinstance\u001b[39m(output, Runnable):\n",
      "File \u001b[0;32m~/miniconda3/envs/test/lib/python3.10/site-packages/langchain_core/runnables/config.py:396\u001b[0m, in \u001b[0;36mcall_func_with_variable_args\u001b[0;34m(func, input, config, run_manager, **kwargs)\u001b[0m\n\u001b[1;32m    <a href='file:///~/miniconda3/envs/test/lib/python3.10/site-packages/langchain_core/runnables/config.py?line=393'>394</a>\u001b[0m \u001b[39mif\u001b[39;00m run_manager \u001b[39mis\u001b[39;00m \u001b[39mnot\u001b[39;00m \u001b[39mNone\u001b[39;00m \u001b[39mand\u001b[39;00m accepts_run_manager(func):\n\u001b[1;32m    <a href='file:///~/miniconda3/envs/test/lib/python3.10/site-packages/langchain_core/runnables/config.py?line=394'>395</a>\u001b[0m     kwargs[\u001b[39m\"\u001b[39m\u001b[39mrun_manager\u001b[39m\u001b[39m\"\u001b[39m] \u001b[39m=\u001b[39m run_manager\n\u001b[0;32m--> <a href='file:///~/miniconda3/envs/test/lib/python3.10/site-packages/langchain_core/runnables/config.py?line=395'>396</a>\u001b[0m \u001b[39mreturn\u001b[39;00m func(\u001b[39minput\u001b[39;49m, \u001b[39m*\u001b[39;49m\u001b[39m*\u001b[39;49mkwargs)\n",
      "Cell \u001b[0;32mIn[104], line 4\u001b[0m, in \u001b[0;36m<lambda>\u001b[0;34m(vars)\u001b[0m\n\u001b[1;32m      1\u001b[0m full_chain \u001b[38;5;241m=\u001b[39m (\n\u001b[1;32m      2\u001b[0m     RunnablePassthrough\u001b[38;5;241m.\u001b[39massign(query\u001b[38;5;241m=\u001b[39msql_chain)\u001b[38;5;241m.\u001b[39massign(\n\u001b[1;32m      3\u001b[0m         schema\u001b[38;5;241m=\u001b[39mget_schema,\n\u001b[0;32m----> 4\u001b[0m         response\u001b[38;5;241m=\u001b[39m\u001b[38;5;28;01mlambda\u001b[39;00m \u001b[38;5;28mvars\u001b[39m: \u001b[43mrun_query\u001b[49m\u001b[43m(\u001b[49m\u001b[38;5;28;43mvars\u001b[39;49m\u001b[43m[\u001b[49m\u001b[38;5;124;43m\"\u001b[39;49m\u001b[38;5;124;43mquery\u001b[39;49m\u001b[38;5;124;43m\"\u001b[39;49m\u001b[43m]\u001b[49m\u001b[43m)\u001b[49m,\n\u001b[1;32m      5\u001b[0m     )\n\u001b[1;32m      6\u001b[0m     \u001b[38;5;241m|\u001b[39m prompt_response\n\u001b[1;32m      7\u001b[0m     \u001b[38;5;241m|\u001b[39m model\n\u001b[1;32m      8\u001b[0m )\n",
      "Cell \u001b[0;32mIn[100], line 5\u001b[0m, in \u001b[0;36mrun_query\u001b[0;34m(query)\u001b[0m\n\u001b[1;32m      3\u001b[0m \u001b[38;5;28;01mif\u001b[39;00m query\u001b[38;5;241m.\u001b[39mcount(\u001b[38;5;124m'\u001b[39m\u001b[38;5;124m;\u001b[39m\u001b[38;5;124m'\u001b[39m) \u001b[38;5;241m>\u001b[39m \u001b[38;5;241m1\u001b[39m:\n\u001b[1;32m      4\u001b[0m     \u001b[38;5;28;01mraise\u001b[39;00m \u001b[38;5;167;01mValueError\u001b[39;00m(\u001b[38;5;124m\"\u001b[39m\u001b[38;5;124mMultiple SQL statements detected. Please execute one statement at a time.\u001b[39m\u001b[38;5;124m\"\u001b[39m)\n\u001b[0;32m----> 5\u001b[0m \u001b[38;5;28;01mreturn\u001b[39;00m \u001b[43mdb\u001b[49m\u001b[38;5;241;43m.\u001b[39;49m\u001b[43mrun\u001b[49m\u001b[43m(\u001b[49m\u001b[43mquery\u001b[49m\u001b[43m)\u001b[49m\n",
      "File \u001b[0;32m~/miniconda3/envs/test/lib/python3.10/site-packages/langchain_community/utilities/sql_database.py:502\u001b[0m, in \u001b[0;36mSQLDatabase.run\u001b[0;34m(self, command, fetch, include_columns, parameters, execution_options)\u001b[0m\n\u001b[1;32m    <a href='file:///~/miniconda3/envs/test/lib/python3.10/site-packages/langchain_community/utilities/sql_database.py?line=487'>488</a>\u001b[0m \u001b[39mdef\u001b[39;00m \u001b[39mrun\u001b[39m(\n\u001b[1;32m    <a href='file:///~/miniconda3/envs/test/lib/python3.10/site-packages/langchain_community/utilities/sql_database.py?line=488'>489</a>\u001b[0m     \u001b[39mself\u001b[39m,\n\u001b[1;32m    <a href='file:///~/miniconda3/envs/test/lib/python3.10/site-packages/langchain_community/utilities/sql_database.py?line=489'>490</a>\u001b[0m     command: Union[\u001b[39mstr\u001b[39m, Executable],\n\u001b[0;32m   (...)\u001b[0m\n\u001b[1;32m    <a href='file:///~/miniconda3/envs/test/lib/python3.10/site-packages/langchain_community/utilities/sql_database.py?line=494'>495</a>\u001b[0m     execution_options: Optional[Dict[\u001b[39mstr\u001b[39m, Any]] \u001b[39m=\u001b[39m \u001b[39mNone\u001b[39;00m,\n\u001b[1;32m    <a href='file:///~/miniconda3/envs/test/lib/python3.10/site-packages/langchain_community/utilities/sql_database.py?line=495'>496</a>\u001b[0m ) \u001b[39m-\u001b[39m\u001b[39m>\u001b[39m Union[\u001b[39mstr\u001b[39m, Sequence[Dict[\u001b[39mstr\u001b[39m, Any]], Result[Any]]:\n\u001b[1;32m    <a href='file:///~/miniconda3/envs/test/lib/python3.10/site-packages/langchain_community/utilities/sql_database.py?line=496'>497</a>\u001b[0m \u001b[39m    \u001b[39m\u001b[39m\"\"\"Execute a SQL command and return a string representing the results.\u001b[39;00m\n\u001b[1;32m    <a href='file:///~/miniconda3/envs/test/lib/python3.10/site-packages/langchain_community/utilities/sql_database.py?line=497'>498</a>\u001b[0m \n\u001b[1;32m    <a href='file:///~/miniconda3/envs/test/lib/python3.10/site-packages/langchain_community/utilities/sql_database.py?line=498'>499</a>\u001b[0m \u001b[39m    If the statement returns rows, a string of the results is returned.\u001b[39;00m\n\u001b[1;32m    <a href='file:///~/miniconda3/envs/test/lib/python3.10/site-packages/langchain_community/utilities/sql_database.py?line=499'>500</a>\u001b[0m \u001b[39m    If the statement returns no rows, an empty string is returned.\u001b[39;00m\n\u001b[1;32m    <a href='file:///~/miniconda3/envs/test/lib/python3.10/site-packages/langchain_community/utilities/sql_database.py?line=500'>501</a>\u001b[0m \u001b[39m    \"\"\"\u001b[39;00m\n\u001b[0;32m--> <a href='file:///~/miniconda3/envs/test/lib/python3.10/site-packages/langchain_community/utilities/sql_database.py?line=501'>502</a>\u001b[0m     result \u001b[39m=\u001b[39m \u001b[39mself\u001b[39;49m\u001b[39m.\u001b[39;49m_execute(\n\u001b[1;32m    <a href='file:///~/miniconda3/envs/test/lib/python3.10/site-packages/langchain_community/utilities/sql_database.py?line=502'>503</a>\u001b[0m         command, fetch, parameters\u001b[39m=\u001b[39;49mparameters, execution_options\u001b[39m=\u001b[39;49mexecution_options\n\u001b[1;32m    <a href='file:///~/miniconda3/envs/test/lib/python3.10/site-packages/langchain_community/utilities/sql_database.py?line=503'>504</a>\u001b[0m     )\n\u001b[1;32m    <a href='file:///~/miniconda3/envs/test/lib/python3.10/site-packages/langchain_community/utilities/sql_database.py?line=505'>506</a>\u001b[0m     \u001b[39mif\u001b[39;00m fetch \u001b[39m==\u001b[39m \u001b[39m\"\u001b[39m\u001b[39mcursor\u001b[39m\u001b[39m\"\u001b[39m:\n\u001b[1;32m    <a href='file:///~/miniconda3/envs/test/lib/python3.10/site-packages/langchain_community/utilities/sql_database.py?line=506'>507</a>\u001b[0m         \u001b[39mreturn\u001b[39;00m result\n",
      "File \u001b[0;32m~/miniconda3/envs/test/lib/python3.10/site-packages/langchain_community/utilities/sql_database.py:467\u001b[0m, in \u001b[0;36mSQLDatabase._execute\u001b[0;34m(self, command, fetch, parameters, execution_options)\u001b[0m\n\u001b[1;32m    <a href='file:///~/miniconda3/envs/test/lib/python3.10/site-packages/langchain_community/utilities/sql_database.py?line=464'>465</a>\u001b[0m \u001b[39melse\u001b[39;00m:\n\u001b[1;32m    <a href='file:///~/miniconda3/envs/test/lib/python3.10/site-packages/langchain_community/utilities/sql_database.py?line=465'>466</a>\u001b[0m     \u001b[39mraise\u001b[39;00m \u001b[39mTypeError\u001b[39;00m(\u001b[39mf\u001b[39m\u001b[39m\"\u001b[39m\u001b[39mQuery expression has unknown type: \u001b[39m\u001b[39m{\u001b[39;00m\u001b[39mtype\u001b[39m(command)\u001b[39m}\u001b[39;00m\u001b[39m\"\u001b[39m)\n\u001b[0;32m--> <a href='file:///~/miniconda3/envs/test/lib/python3.10/site-packages/langchain_community/utilities/sql_database.py?line=466'>467</a>\u001b[0m cursor \u001b[39m=\u001b[39m connection\u001b[39m.\u001b[39;49mexecute(\n\u001b[1;32m    <a href='file:///~/miniconda3/envs/test/lib/python3.10/site-packages/langchain_community/utilities/sql_database.py?line=467'>468</a>\u001b[0m     command,\n\u001b[1;32m    <a href='file:///~/miniconda3/envs/test/lib/python3.10/site-packages/langchain_community/utilities/sql_database.py?line=468'>469</a>\u001b[0m     parameters,\n\u001b[1;32m    <a href='file:///~/miniconda3/envs/test/lib/python3.10/site-packages/langchain_community/utilities/sql_database.py?line=469'>470</a>\u001b[0m     execution_options\u001b[39m=\u001b[39;49mexecution_options,\n\u001b[1;32m    <a href='file:///~/miniconda3/envs/test/lib/python3.10/site-packages/langchain_community/utilities/sql_database.py?line=470'>471</a>\u001b[0m )\n\u001b[1;32m    <a href='file:///~/miniconda3/envs/test/lib/python3.10/site-packages/langchain_community/utilities/sql_database.py?line=472'>473</a>\u001b[0m \u001b[39mif\u001b[39;00m cursor\u001b[39m.\u001b[39mreturns_rows:\n\u001b[1;32m    <a href='file:///~/miniconda3/envs/test/lib/python3.10/site-packages/langchain_community/utilities/sql_database.py?line=473'>474</a>\u001b[0m     \u001b[39mif\u001b[39;00m fetch \u001b[39m==\u001b[39m \u001b[39m\"\u001b[39m\u001b[39mall\u001b[39m\u001b[39m\"\u001b[39m:\n",
      "File \u001b[0;32m~/miniconda3/envs/test/lib/python3.10/site-packages/sqlalchemy/engine/base.py:1416\u001b[0m, in \u001b[0;36mConnection.execute\u001b[0;34m(self, statement, parameters, execution_options)\u001b[0m\n\u001b[1;32m   <a href='file:///~/miniconda3/envs/test/lib/python3.10/site-packages/sqlalchemy/engine/base.py?line=1413'>1414</a>\u001b[0m     \u001b[39mraise\u001b[39;00m exc\u001b[39m.\u001b[39mObjectNotExecutableError(statement) \u001b[39mfrom\u001b[39;00m \u001b[39merr\u001b[39;00m\n\u001b[1;32m   <a href='file:///~/miniconda3/envs/test/lib/python3.10/site-packages/sqlalchemy/engine/base.py?line=1414'>1415</a>\u001b[0m \u001b[39melse\u001b[39;00m:\n\u001b[0;32m-> <a href='file:///~/miniconda3/envs/test/lib/python3.10/site-packages/sqlalchemy/engine/base.py?line=1415'>1416</a>\u001b[0m     \u001b[39mreturn\u001b[39;00m meth(\n\u001b[1;32m   <a href='file:///~/miniconda3/envs/test/lib/python3.10/site-packages/sqlalchemy/engine/base.py?line=1416'>1417</a>\u001b[0m         \u001b[39mself\u001b[39;49m,\n\u001b[1;32m   <a href='file:///~/miniconda3/envs/test/lib/python3.10/site-packages/sqlalchemy/engine/base.py?line=1417'>1418</a>\u001b[0m         distilled_parameters,\n\u001b[1;32m   <a href='file:///~/miniconda3/envs/test/lib/python3.10/site-packages/sqlalchemy/engine/base.py?line=1418'>1419</a>\u001b[0m         execution_options \u001b[39mor\u001b[39;49;00m NO_OPTIONS,\n\u001b[1;32m   <a href='file:///~/miniconda3/envs/test/lib/python3.10/site-packages/sqlalchemy/engine/base.py?line=1419'>1420</a>\u001b[0m     )\n",
      "File \u001b[0;32m~/miniconda3/envs/test/lib/python3.10/site-packages/sqlalchemy/sql/elements.py:515\u001b[0m, in \u001b[0;36mClauseElement._execute_on_connection\u001b[0;34m(self, connection, distilled_params, execution_options)\u001b[0m\n\u001b[1;32m    <a href='file:///~/miniconda3/envs/test/lib/python3.10/site-packages/sqlalchemy/sql/elements.py?line=512'>513</a>\u001b[0m     \u001b[39mif\u001b[39;00m TYPE_CHECKING:\n\u001b[1;32m    <a href='file:///~/miniconda3/envs/test/lib/python3.10/site-packages/sqlalchemy/sql/elements.py?line=513'>514</a>\u001b[0m         \u001b[39massert\u001b[39;00m \u001b[39misinstance\u001b[39m(\u001b[39mself\u001b[39m, Executable)\n\u001b[0;32m--> <a href='file:///~/miniconda3/envs/test/lib/python3.10/site-packages/sqlalchemy/sql/elements.py?line=514'>515</a>\u001b[0m     \u001b[39mreturn\u001b[39;00m connection\u001b[39m.\u001b[39;49m_execute_clauseelement(\n\u001b[1;32m    <a href='file:///~/miniconda3/envs/test/lib/python3.10/site-packages/sqlalchemy/sql/elements.py?line=515'>516</a>\u001b[0m         \u001b[39mself\u001b[39;49m, distilled_params, execution_options\n\u001b[1;32m    <a href='file:///~/miniconda3/envs/test/lib/python3.10/site-packages/sqlalchemy/sql/elements.py?line=516'>517</a>\u001b[0m     )\n\u001b[1;32m    <a href='file:///~/miniconda3/envs/test/lib/python3.10/site-packages/sqlalchemy/sql/elements.py?line=517'>518</a>\u001b[0m \u001b[39melse\u001b[39;00m:\n\u001b[1;32m    <a href='file:///~/miniconda3/envs/test/lib/python3.10/site-packages/sqlalchemy/sql/elements.py?line=518'>519</a>\u001b[0m     \u001b[39mraise\u001b[39;00m exc\u001b[39m.\u001b[39mObjectNotExecutableError(\u001b[39mself\u001b[39m)\n",
      "File \u001b[0;32m~/miniconda3/envs/test/lib/python3.10/site-packages/sqlalchemy/engine/base.py:1638\u001b[0m, in \u001b[0;36mConnection._execute_clauseelement\u001b[0;34m(self, elem, distilled_parameters, execution_options)\u001b[0m\n\u001b[1;32m   <a href='file:///~/miniconda3/envs/test/lib/python3.10/site-packages/sqlalchemy/engine/base.py?line=1625'>1626</a>\u001b[0m compiled_cache: Optional[CompiledCacheType] \u001b[39m=\u001b[39m execution_options\u001b[39m.\u001b[39mget(\n\u001b[1;32m   <a href='file:///~/miniconda3/envs/test/lib/python3.10/site-packages/sqlalchemy/engine/base.py?line=1626'>1627</a>\u001b[0m     \u001b[39m\"\u001b[39m\u001b[39mcompiled_cache\u001b[39m\u001b[39m\"\u001b[39m, \u001b[39mself\u001b[39m\u001b[39m.\u001b[39mengine\u001b[39m.\u001b[39m_compiled_cache\n\u001b[1;32m   <a href='file:///~/miniconda3/envs/test/lib/python3.10/site-packages/sqlalchemy/engine/base.py?line=1627'>1628</a>\u001b[0m )\n\u001b[1;32m   <a href='file:///~/miniconda3/envs/test/lib/python3.10/site-packages/sqlalchemy/engine/base.py?line=1629'>1630</a>\u001b[0m compiled_sql, extracted_params, cache_hit \u001b[39m=\u001b[39m elem\u001b[39m.\u001b[39m_compile_w_cache(\n\u001b[1;32m   <a href='file:///~/miniconda3/envs/test/lib/python3.10/site-packages/sqlalchemy/engine/base.py?line=1630'>1631</a>\u001b[0m     dialect\u001b[39m=\u001b[39mdialect,\n\u001b[1;32m   <a href='file:///~/miniconda3/envs/test/lib/python3.10/site-packages/sqlalchemy/engine/base.py?line=1631'>1632</a>\u001b[0m     compiled_cache\u001b[39m=\u001b[39mcompiled_cache,\n\u001b[0;32m   (...)\u001b[0m\n\u001b[1;32m   <a href='file:///~/miniconda3/envs/test/lib/python3.10/site-packages/sqlalchemy/engine/base.py?line=1635'>1636</a>\u001b[0m     linting\u001b[39m=\u001b[39m\u001b[39mself\u001b[39m\u001b[39m.\u001b[39mdialect\u001b[39m.\u001b[39mcompiler_linting \u001b[39m|\u001b[39m compiler\u001b[39m.\u001b[39mWARN_LINTING,\n\u001b[1;32m   <a href='file:///~/miniconda3/envs/test/lib/python3.10/site-packages/sqlalchemy/engine/base.py?line=1636'>1637</a>\u001b[0m )\n\u001b[0;32m-> <a href='file:///~/miniconda3/envs/test/lib/python3.10/site-packages/sqlalchemy/engine/base.py?line=1637'>1638</a>\u001b[0m ret \u001b[39m=\u001b[39m \u001b[39mself\u001b[39;49m\u001b[39m.\u001b[39;49m_execute_context(\n\u001b[1;32m   <a href='file:///~/miniconda3/envs/test/lib/python3.10/site-packages/sqlalchemy/engine/base.py?line=1638'>1639</a>\u001b[0m     dialect,\n\u001b[1;32m   <a href='file:///~/miniconda3/envs/test/lib/python3.10/site-packages/sqlalchemy/engine/base.py?line=1639'>1640</a>\u001b[0m     dialect\u001b[39m.\u001b[39;49mexecution_ctx_cls\u001b[39m.\u001b[39;49m_init_compiled,\n\u001b[1;32m   <a href='file:///~/miniconda3/envs/test/lib/python3.10/site-packages/sqlalchemy/engine/base.py?line=1640'>1641</a>\u001b[0m     compiled_sql,\n\u001b[1;32m   <a href='file:///~/miniconda3/envs/test/lib/python3.10/site-packages/sqlalchemy/engine/base.py?line=1641'>1642</a>\u001b[0m     distilled_parameters,\n\u001b[1;32m   <a href='file:///~/miniconda3/envs/test/lib/python3.10/site-packages/sqlalchemy/engine/base.py?line=1642'>1643</a>\u001b[0m     execution_options,\n\u001b[1;32m   <a href='file:///~/miniconda3/envs/test/lib/python3.10/site-packages/sqlalchemy/engine/base.py?line=1643'>1644</a>\u001b[0m     compiled_sql,\n\u001b[1;32m   <a href='file:///~/miniconda3/envs/test/lib/python3.10/site-packages/sqlalchemy/engine/base.py?line=1644'>1645</a>\u001b[0m     distilled_parameters,\n\u001b[1;32m   <a href='file:///~/miniconda3/envs/test/lib/python3.10/site-packages/sqlalchemy/engine/base.py?line=1645'>1646</a>\u001b[0m     elem,\n\u001b[1;32m   <a href='file:///~/miniconda3/envs/test/lib/python3.10/site-packages/sqlalchemy/engine/base.py?line=1646'>1647</a>\u001b[0m     extracted_params,\n\u001b[1;32m   <a href='file:///~/miniconda3/envs/test/lib/python3.10/site-packages/sqlalchemy/engine/base.py?line=1647'>1648</a>\u001b[0m     cache_hit\u001b[39m=\u001b[39;49mcache_hit,\n\u001b[1;32m   <a href='file:///~/miniconda3/envs/test/lib/python3.10/site-packages/sqlalchemy/engine/base.py?line=1648'>1649</a>\u001b[0m )\n\u001b[1;32m   <a href='file:///~/miniconda3/envs/test/lib/python3.10/site-packages/sqlalchemy/engine/base.py?line=1649'>1650</a>\u001b[0m \u001b[39mif\u001b[39;00m has_events:\n\u001b[1;32m   <a href='file:///~/miniconda3/envs/test/lib/python3.10/site-packages/sqlalchemy/engine/base.py?line=1650'>1651</a>\u001b[0m     \u001b[39mself\u001b[39m\u001b[39m.\u001b[39mdispatch\u001b[39m.\u001b[39mafter_execute(\n\u001b[1;32m   <a href='file:///~/miniconda3/envs/test/lib/python3.10/site-packages/sqlalchemy/engine/base.py?line=1651'>1652</a>\u001b[0m         \u001b[39mself\u001b[39m,\n\u001b[1;32m   <a href='file:///~/miniconda3/envs/test/lib/python3.10/site-packages/sqlalchemy/engine/base.py?line=1652'>1653</a>\u001b[0m         elem,\n\u001b[0;32m   (...)\u001b[0m\n\u001b[1;32m   <a href='file:///~/miniconda3/envs/test/lib/python3.10/site-packages/sqlalchemy/engine/base.py?line=1656'>1657</a>\u001b[0m         ret,\n\u001b[1;32m   <a href='file:///~/miniconda3/envs/test/lib/python3.10/site-packages/sqlalchemy/engine/base.py?line=1657'>1658</a>\u001b[0m     )\n",
      "File \u001b[0;32m~/miniconda3/envs/test/lib/python3.10/site-packages/sqlalchemy/engine/base.py:1843\u001b[0m, in \u001b[0;36mConnection._execute_context\u001b[0;34m(self, dialect, constructor, statement, parameters, execution_options, *args, **kw)\u001b[0m\n\u001b[1;32m   <a href='file:///~/miniconda3/envs/test/lib/python3.10/site-packages/sqlalchemy/engine/base.py?line=1840'>1841</a>\u001b[0m     \u001b[39mreturn\u001b[39;00m \u001b[39mself\u001b[39m\u001b[39m.\u001b[39m_exec_insertmany_context(dialect, context)\n\u001b[1;32m   <a href='file:///~/miniconda3/envs/test/lib/python3.10/site-packages/sqlalchemy/engine/base.py?line=1841'>1842</a>\u001b[0m \u001b[39melse\u001b[39;00m:\n\u001b[0;32m-> <a href='file:///~/miniconda3/envs/test/lib/python3.10/site-packages/sqlalchemy/engine/base.py?line=1842'>1843</a>\u001b[0m     \u001b[39mreturn\u001b[39;00m \u001b[39mself\u001b[39;49m\u001b[39m.\u001b[39;49m_exec_single_context(\n\u001b[1;32m   <a href='file:///~/miniconda3/envs/test/lib/python3.10/site-packages/sqlalchemy/engine/base.py?line=1843'>1844</a>\u001b[0m         dialect, context, statement, parameters\n\u001b[1;32m   <a href='file:///~/miniconda3/envs/test/lib/python3.10/site-packages/sqlalchemy/engine/base.py?line=1844'>1845</a>\u001b[0m     )\n",
      "File \u001b[0;32m~/miniconda3/envs/test/lib/python3.10/site-packages/sqlalchemy/engine/base.py:1983\u001b[0m, in \u001b[0;36mConnection._exec_single_context\u001b[0;34m(self, dialect, context, statement, parameters)\u001b[0m\n\u001b[1;32m   <a href='file:///~/miniconda3/envs/test/lib/python3.10/site-packages/sqlalchemy/engine/base.py?line=1979'>1980</a>\u001b[0m     result \u001b[39m=\u001b[39m context\u001b[39m.\u001b[39m_setup_result_proxy()\n\u001b[1;32m   <a href='file:///~/miniconda3/envs/test/lib/python3.10/site-packages/sqlalchemy/engine/base.py?line=1981'>1982</a>\u001b[0m \u001b[39mexcept\u001b[39;00m \u001b[39mBaseException\u001b[39;00m \u001b[39mas\u001b[39;00m e:\n\u001b[0;32m-> <a href='file:///~/miniconda3/envs/test/lib/python3.10/site-packages/sqlalchemy/engine/base.py?line=1982'>1983</a>\u001b[0m     \u001b[39mself\u001b[39;49m\u001b[39m.\u001b[39;49m_handle_dbapi_exception(\n\u001b[1;32m   <a href='file:///~/miniconda3/envs/test/lib/python3.10/site-packages/sqlalchemy/engine/base.py?line=1983'>1984</a>\u001b[0m         e, str_statement, effective_parameters, cursor, context\n\u001b[1;32m   <a href='file:///~/miniconda3/envs/test/lib/python3.10/site-packages/sqlalchemy/engine/base.py?line=1984'>1985</a>\u001b[0m     )\n\u001b[1;32m   <a href='file:///~/miniconda3/envs/test/lib/python3.10/site-packages/sqlalchemy/engine/base.py?line=1986'>1987</a>\u001b[0m \u001b[39mreturn\u001b[39;00m result\n",
      "File \u001b[0;32m~/miniconda3/envs/test/lib/python3.10/site-packages/sqlalchemy/engine/base.py:2355\u001b[0m, in \u001b[0;36mConnection._handle_dbapi_exception\u001b[0;34m(self, e, statement, parameters, cursor, context, is_sub_exec)\u001b[0m\n\u001b[1;32m   <a href='file:///~/miniconda3/envs/test/lib/python3.10/site-packages/sqlalchemy/engine/base.py?line=2352'>2353</a>\u001b[0m     \u001b[39melse\u001b[39;00m:\n\u001b[1;32m   <a href='file:///~/miniconda3/envs/test/lib/python3.10/site-packages/sqlalchemy/engine/base.py?line=2353'>2354</a>\u001b[0m         \u001b[39massert\u001b[39;00m exc_info[\u001b[39m1\u001b[39m] \u001b[39mis\u001b[39;00m \u001b[39mnot\u001b[39;00m \u001b[39mNone\u001b[39;00m\n\u001b[0;32m-> <a href='file:///~/miniconda3/envs/test/lib/python3.10/site-packages/sqlalchemy/engine/base.py?line=2354'>2355</a>\u001b[0m         \u001b[39mraise\u001b[39;00m exc_info[\u001b[39m1\u001b[39m]\u001b[39m.\u001b[39mwith_traceback(exc_info[\u001b[39m2\u001b[39m])\n\u001b[1;32m   <a href='file:///~/miniconda3/envs/test/lib/python3.10/site-packages/sqlalchemy/engine/base.py?line=2355'>2356</a>\u001b[0m \u001b[39mfinally\u001b[39;00m:\n\u001b[1;32m   <a href='file:///~/miniconda3/envs/test/lib/python3.10/site-packages/sqlalchemy/engine/base.py?line=2356'>2357</a>\u001b[0m     \u001b[39mdel\u001b[39;00m \u001b[39mself\u001b[39m\u001b[39m.\u001b[39m_reentrant_error\n",
      "File \u001b[0;32m~/miniconda3/envs/test/lib/python3.10/site-packages/sqlalchemy/engine/base.py:1964\u001b[0m, in \u001b[0;36mConnection._exec_single_context\u001b[0;34m(self, dialect, context, statement, parameters)\u001b[0m\n\u001b[1;32m   <a href='file:///~/miniconda3/envs/test/lib/python3.10/site-packages/sqlalchemy/engine/base.py?line=1961'>1962</a>\u001b[0m                 \u001b[39mbreak\u001b[39;00m\n\u001b[1;32m   <a href='file:///~/miniconda3/envs/test/lib/python3.10/site-packages/sqlalchemy/engine/base.py?line=1962'>1963</a>\u001b[0m     \u001b[39mif\u001b[39;00m \u001b[39mnot\u001b[39;00m evt_handled:\n\u001b[0;32m-> <a href='file:///~/miniconda3/envs/test/lib/python3.10/site-packages/sqlalchemy/engine/base.py?line=1963'>1964</a>\u001b[0m         \u001b[39mself\u001b[39;49m\u001b[39m.\u001b[39;49mdialect\u001b[39m.\u001b[39;49mdo_execute(\n\u001b[1;32m   <a href='file:///~/miniconda3/envs/test/lib/python3.10/site-packages/sqlalchemy/engine/base.py?line=1964'>1965</a>\u001b[0m             cursor, str_statement, effective_parameters, context\n\u001b[1;32m   <a href='file:///~/miniconda3/envs/test/lib/python3.10/site-packages/sqlalchemy/engine/base.py?line=1965'>1966</a>\u001b[0m         )\n\u001b[1;32m   <a href='file:///~/miniconda3/envs/test/lib/python3.10/site-packages/sqlalchemy/engine/base.py?line=1967'>1968</a>\u001b[0m \u001b[39mif\u001b[39;00m \u001b[39mself\u001b[39m\u001b[39m.\u001b[39m_has_events \u001b[39mor\u001b[39;00m \u001b[39mself\u001b[39m\u001b[39m.\u001b[39mengine\u001b[39m.\u001b[39m_has_events:\n\u001b[1;32m   <a href='file:///~/miniconda3/envs/test/lib/python3.10/site-packages/sqlalchemy/engine/base.py?line=1968'>1969</a>\u001b[0m     \u001b[39mself\u001b[39m\u001b[39m.\u001b[39mdispatch\u001b[39m.\u001b[39mafter_cursor_execute(\n\u001b[1;32m   <a href='file:///~/miniconda3/envs/test/lib/python3.10/site-packages/sqlalchemy/engine/base.py?line=1969'>1970</a>\u001b[0m         \u001b[39mself\u001b[39m,\n\u001b[1;32m   <a href='file:///~/miniconda3/envs/test/lib/python3.10/site-packages/sqlalchemy/engine/base.py?line=1970'>1971</a>\u001b[0m         cursor,\n\u001b[0;32m   (...)\u001b[0m\n\u001b[1;32m   <a href='file:///~/miniconda3/envs/test/lib/python3.10/site-packages/sqlalchemy/engine/base.py?line=1974'>1975</a>\u001b[0m         context\u001b[39m.\u001b[39mexecutemany,\n\u001b[1;32m   <a href='file:///~/miniconda3/envs/test/lib/python3.10/site-packages/sqlalchemy/engine/base.py?line=1975'>1976</a>\u001b[0m     )\n",
      "File \u001b[0;32m~/miniconda3/envs/test/lib/python3.10/site-packages/sqlalchemy/engine/default.py:942\u001b[0m, in \u001b[0;36mDefaultDialect.do_execute\u001b[0;34m(self, cursor, statement, parameters, context)\u001b[0m\n\u001b[1;32m    <a href='file:///~/miniconda3/envs/test/lib/python3.10/site-packages/sqlalchemy/engine/default.py?line=940'>941</a>\u001b[0m \u001b[39mdef\u001b[39;00m \u001b[39mdo_execute\u001b[39m(\u001b[39mself\u001b[39m, cursor, statement, parameters, context\u001b[39m=\u001b[39m\u001b[39mNone\u001b[39;00m):\n\u001b[0;32m--> <a href='file:///~/miniconda3/envs/test/lib/python3.10/site-packages/sqlalchemy/engine/default.py?line=941'>942</a>\u001b[0m     cursor\u001b[39m.\u001b[39;49mexecute(statement, parameters)\n",
      "\u001b[0;31mWarning\u001b[0m: You can only execute one statement at a time."
     ]
    }
   ],
   "source": [
    "user_question = 'show me all the content of student table?'\n",
    "full_chain.invoke({\"question\": user_question})\n",
    "\n",
    "# 'There are 347 albums in the database.'\n"
   ]
  },
  {
   "cell_type": "code",
   "execution_count": null,
   "metadata": {},
   "outputs": [],
   "source": []
  },
  {
   "cell_type": "code",
   "execution_count": 50,
   "metadata": {},
   "outputs": [],
   "source": [
    "from langchain_community.agent_toolkits.sql.toolkit import SQLDatabaseToolkit\n",
    "\n",
    "toolkit = SQLDatabaseToolkit(db=sqldb, llm=model)"
   ]
  },
  {
   "cell_type": "code",
   "execution_count": null,
   "metadata": {},
   "outputs": [],
   "source": [
    "toolkit.get_tools()"
   ]
  },
  {
   "cell_type": "code",
   "execution_count": 60,
   "metadata": {},
   "outputs": [
    {
     "ename": "NameError",
     "evalue": "name 'State' is not defined",
     "output_type": "error",
     "traceback": [
      "\u001b[0;31m---------------------------------------------------------------------------\u001b[0m",
      "\u001b[0;31mNameError\u001b[0m                                 Traceback (most recent call last)",
      "Cell \u001b[0;32mIn[60], line 4\u001b[0m\n\u001b[1;32m      1\u001b[0m \u001b[38;5;28;01mfrom\u001b[39;00m \u001b[38;5;21;01mlangchain_community\u001b[39;00m\u001b[38;5;21;01m.\u001b[39;00m\u001b[38;5;21;01mtools\u001b[39;00m\u001b[38;5;21;01m.\u001b[39;00m\u001b[38;5;21;01msql_database\u001b[39;00m\u001b[38;5;21;01m.\u001b[39;00m\u001b[38;5;21;01mtool\u001b[39;00m \u001b[38;5;28;01mimport\u001b[39;00m QuerySQLDatabaseTool\n\u001b[0;32m----> 4\u001b[0m \u001b[38;5;28;01mdef\u001b[39;00m \u001b[38;5;21mexecute_query\u001b[39m(state: \u001b[43mState\u001b[49m):\n\u001b[1;32m      5\u001b[0m \u001b[38;5;250m    \u001b[39m\u001b[38;5;124;03m\"\"\"Execute SQL query.\"\"\"\u001b[39;00m\n\u001b[1;32m      6\u001b[0m     execute_query_tool \u001b[38;5;241m=\u001b[39m QuerySQLDatabaseTool(db\u001b[38;5;241m=\u001b[39mdb)\n",
      "\u001b[0;31mNameError\u001b[0m: name 'State' is not defined"
     ]
    }
   ],
   "source": [
    "from langchain_community.tools.sql_database.tool import QuerySQLDatabaseTool\n",
    "\n",
    "\n",
    "def execute_query(state: State):\n",
    "    \"\"\"Execute SQL query.\"\"\"\n",
    "    execute_query_tool = QuerySQLDatabaseTool(db=db)\n",
    "    return {\"result\": execute_query_tool.invoke(state[\"query\"])}"
   ]
  },
  {
   "cell_type": "code",
   "execution_count": 56,
   "metadata": {},
   "outputs": [
    {
     "name": "stderr",
     "output_type": "stream",
     "text": [
      "/home/himanshulalarya/miniconda3/envs/test/lib/python3.10/site-packages/langsmith/client.py:256: LangSmithMissingAPIKeyWarning: API key must be provided when using hosted LangSmith API\n",
      "  warnings.warn(\n"
     ]
    },
    {
     "name": "stdout",
     "output_type": "stream",
     "text": [
      "================================\u001b[1m System Message \u001b[0m================================\n",
      "\n",
      "You are an agent designed to interact with a SQL database.\n",
      "Given an input question, create a syntactically correct \u001b[33;1m\u001b[1;3m{dialect}\u001b[0m query to run, then look at the results of the query and return the answer.\n",
      "Unless the user specifies a specific number of examples they wish to obtain, always limit your query to at most \u001b[33;1m\u001b[1;3m{top_k}\u001b[0m results.\n",
      "You can order the results by a relevant column to return the most interesting examples in the database.\n",
      "Never query for all the columns from a specific table, only ask for the relevant columns given the question.\n",
      "You have access to tools for interacting with the database.\n",
      "Only use the below tools. Only use the information returned by the below tools to construct your final answer.\n",
      "You MUST double check your query before executing it. If you get an error while executing a query, rewrite the query and try again.\n",
      "\n",
      "DO NOT make any DML statements (INSERT, UPDATE, DELETE, DROP etc.) to the database.\n",
      "\n",
      "To start you should ALWAYS look at the tables in the database to see what you can query.\n",
      "Do NOT skip this step.\n",
      "Then you should query the schema of the most relevant tables.\n"
     ]
    }
   ],
   "source": [
    "from langchain import hub\n",
    "\n",
    "prompt_template = hub.pull(\"langchain-ai/sql-agent-system-prompt\")\n",
    "\n",
    "assert len(prompt_template.messages) == 1\n",
    "prompt_template.messages[0].pretty_print()"
   ]
  },
  {
   "cell_type": "code",
   "execution_count": 59,
   "metadata": {},
   "outputs": [
    {
     "ename": "ValueError",
     "evalue": "The first argument must be a string or a callable with a __name__ for tool decorator. Got <class 'tuple'>",
     "output_type": "error",
     "traceback": [
      "\u001b[0;31m---------------------------------------------------------------------------\u001b[0m",
      "\u001b[0;31mValueError\u001b[0m                                Traceback (most recent call last)",
      "Cell \u001b[0;32mIn[59], line 5\u001b[0m\n\u001b[1;32m      2\u001b[0m \u001b[38;5;28;01mfrom\u001b[39;00m \u001b[38;5;21;01mlanggraph\u001b[39;00m\u001b[38;5;21;01m.\u001b[39;00m\u001b[38;5;21;01mprebuilt\u001b[39;00m \u001b[38;5;28;01mimport\u001b[39;00m create_react_agent\n\u001b[1;32m      4\u001b[0m system_message \u001b[38;5;241m=\u001b[39m prompt_template\u001b[38;5;241m.\u001b[39mformat(dialect\u001b[38;5;241m=\u001b[39m\u001b[38;5;124m\"\u001b[39m\u001b[38;5;124mSQLite\u001b[39m\u001b[38;5;124m\"\u001b[39m, top_k\u001b[38;5;241m=\u001b[39m\u001b[38;5;241m3\u001b[39m)\n\u001b[0;32m----> 5\u001b[0m agent_executor \u001b[38;5;241m=\u001b[39m \u001b[43mcreate_react_agent\u001b[49m\u001b[43m(\u001b[49m\u001b[43mmodel\u001b[49m\u001b[43m,\u001b[49m\u001b[43m \u001b[49m\u001b[43mtoolkit\u001b[49m\u001b[43m,\u001b[49m\u001b[43m \u001b[49m\u001b[43mstate_modifier\u001b[49m\u001b[38;5;241;43m=\u001b[39;49m\u001b[43msystem_message\u001b[49m\u001b[43m)\u001b[49m\n",
      "File \u001b[0;32m~/miniconda3/envs/test/lib/python3.10/site-packages/langgraph/_api/deprecation.py:80\u001b[0m, in \u001b[0;36mdeprecated_parameter.<locals>.decorator.<locals>.wrapper\u001b[0;34m(*args, **kwargs)\u001b[0m\n\u001b[1;32m     <a href='file:///~/miniconda3/envs/test/lib/python3.10/site-packages/langgraph/_api/deprecation.py?line=71'>72</a>\u001b[0m \u001b[39mif\u001b[39;00m arg_name \u001b[39min\u001b[39;00m kwargs:\n\u001b[1;32m     <a href='file:///~/miniconda3/envs/test/lib/python3.10/site-packages/langgraph/_api/deprecation.py?line=72'>73</a>\u001b[0m     warnings\u001b[39m.\u001b[39mwarn(\n\u001b[1;32m     <a href='file:///~/miniconda3/envs/test/lib/python3.10/site-packages/langgraph/_api/deprecation.py?line=73'>74</a>\u001b[0m         \u001b[39mf\u001b[39m\u001b[39m\"\u001b[39m\u001b[39mParameter \u001b[39m\u001b[39m'\u001b[39m\u001b[39m{\u001b[39;00marg_name\u001b[39m}\u001b[39;00m\u001b[39m'\u001b[39m\u001b[39m in function \u001b[39m\u001b[39m'\u001b[39m\u001b[39m{\u001b[39;00mfunc\u001b[39m.\u001b[39m\u001b[39m__name__\u001b[39m\u001b[39m}\u001b[39;00m\u001b[39m'\u001b[39m\u001b[39m is \u001b[39m\u001b[39m\"\u001b[39m\n\u001b[1;32m     <a href='file:///~/miniconda3/envs/test/lib/python3.10/site-packages/langgraph/_api/deprecation.py?line=74'>75</a>\u001b[0m         \u001b[39mf\u001b[39m\u001b[39m\"\u001b[39m\u001b[39mdeprecated as of version \u001b[39m\u001b[39m{\u001b[39;00msince\u001b[39m}\u001b[39;00m\u001b[39m and will be removed in version \u001b[39m\u001b[39m{\u001b[39;00mremoval\u001b[39m}\u001b[39;00m\u001b[39m. \u001b[39m\u001b[39m\"\u001b[39m\n\u001b[0;32m   (...)\u001b[0m\n\u001b[1;32m     <a href='file:///~/miniconda3/envs/test/lib/python3.10/site-packages/langgraph/_api/deprecation.py?line=77'>78</a>\u001b[0m         stacklevel\u001b[39m=\u001b[39m\u001b[39m2\u001b[39m,\n\u001b[1;32m     <a href='file:///~/miniconda3/envs/test/lib/python3.10/site-packages/langgraph/_api/deprecation.py?line=78'>79</a>\u001b[0m     )\n\u001b[0;32m---> <a href='file:///~/miniconda3/envs/test/lib/python3.10/site-packages/langgraph/_api/deprecation.py?line=79'>80</a>\u001b[0m \u001b[39mreturn\u001b[39;00m func(\u001b[39m*\u001b[39;49margs, \u001b[39m*\u001b[39;49m\u001b[39m*\u001b[39;49mkwargs)\n",
      "File \u001b[0;32m~/miniconda3/envs/test/lib/python3.10/site-packages/langgraph/prebuilt/chat_agent_executor.py:594\u001b[0m, in \u001b[0;36mcreate_react_agent\u001b[0;34m(model, tools, state_schema, messages_modifier, state_modifier, response_format, checkpointer, store, interrupt_before, interrupt_after, debug)\u001b[0m\n\u001b[1;32m    <a href='file:///~/miniconda3/envs/test/lib/python3.10/site-packages/langgraph/prebuilt/chat_agent_executor.py?line=591'>592</a>\u001b[0m     tool_node \u001b[39m=\u001b[39m tools\n\u001b[1;32m    <a href='file:///~/miniconda3/envs/test/lib/python3.10/site-packages/langgraph/prebuilt/chat_agent_executor.py?line=592'>593</a>\u001b[0m \u001b[39melse\u001b[39;00m:\n\u001b[0;32m--> <a href='file:///~/miniconda3/envs/test/lib/python3.10/site-packages/langgraph/prebuilt/chat_agent_executor.py?line=593'>594</a>\u001b[0m     tool_node \u001b[39m=\u001b[39m ToolNode(tools)\n\u001b[1;32m    <a href='file:///~/miniconda3/envs/test/lib/python3.10/site-packages/langgraph/prebuilt/chat_agent_executor.py?line=594'>595</a>\u001b[0m     \u001b[39m# get the tool functions wrapped in a tool class from the ToolNode\u001b[39;00m\n\u001b[1;32m    <a href='file:///~/miniconda3/envs/test/lib/python3.10/site-packages/langgraph/prebuilt/chat_agent_executor.py?line=595'>596</a>\u001b[0m     tool_classes \u001b[39m=\u001b[39m \u001b[39mlist\u001b[39m(tool_node\u001b[39m.\u001b[39mtools_by_name\u001b[39m.\u001b[39mvalues())\n",
      "File \u001b[0;32m~/miniconda3/envs/test/lib/python3.10/site-packages/langgraph/prebuilt/tool_node.py:199\u001b[0m, in \u001b[0;36mToolNode.__init__\u001b[0;34m(self, tools, name, tags, handle_tool_errors, messages_key)\u001b[0m\n\u001b[1;32m    <a href='file:///~/miniconda3/envs/test/lib/python3.10/site-packages/langgraph/prebuilt/tool_node.py?line=196'>197</a>\u001b[0m \u001b[39mfor\u001b[39;00m tool_ \u001b[39min\u001b[39;00m tools:\n\u001b[1;32m    <a href='file:///~/miniconda3/envs/test/lib/python3.10/site-packages/langgraph/prebuilt/tool_node.py?line=197'>198</a>\u001b[0m     \u001b[39mif\u001b[39;00m \u001b[39mnot\u001b[39;00m \u001b[39misinstance\u001b[39m(tool_, BaseTool):\n\u001b[0;32m--> <a href='file:///~/miniconda3/envs/test/lib/python3.10/site-packages/langgraph/prebuilt/tool_node.py?line=198'>199</a>\u001b[0m         tool_ \u001b[39m=\u001b[39m create_tool(tool_)\n\u001b[1;32m    <a href='file:///~/miniconda3/envs/test/lib/python3.10/site-packages/langgraph/prebuilt/tool_node.py?line=199'>200</a>\u001b[0m     \u001b[39mself\u001b[39m\u001b[39m.\u001b[39mtools_by_name[tool_\u001b[39m.\u001b[39mname] \u001b[39m=\u001b[39m tool_\n\u001b[1;32m    <a href='file:///~/miniconda3/envs/test/lib/python3.10/site-packages/langgraph/prebuilt/tool_node.py?line=200'>201</a>\u001b[0m     \u001b[39mself\u001b[39m\u001b[39m.\u001b[39mtool_to_state_args[tool_\u001b[39m.\u001b[39mname] \u001b[39m=\u001b[39m _get_state_args(tool_)\n",
      "File \u001b[0;32m~/miniconda3/envs/test/lib/python3.10/site-packages/langchain_core/tools/convert.py:322\u001b[0m, in \u001b[0;36mtool\u001b[0;34m(name_or_callable, runnable, return_direct, args_schema, infer_schema, response_format, parse_docstring, error_on_invalid_docstring, *args)\u001b[0m\n\u001b[1;32m    <a href='file:///~/miniconda3/envs/test/lib/python3.10/site-packages/langchain_core/tools/convert.py?line=316'>317</a>\u001b[0m     \u001b[39melse\u001b[39;00m:\n\u001b[1;32m    <a href='file:///~/miniconda3/envs/test/lib/python3.10/site-packages/langchain_core/tools/convert.py?line=317'>318</a>\u001b[0m         msg \u001b[39m=\u001b[39m (\n\u001b[1;32m    <a href='file:///~/miniconda3/envs/test/lib/python3.10/site-packages/langchain_core/tools/convert.py?line=318'>319</a>\u001b[0m             \u001b[39mf\u001b[39m\u001b[39m\"\u001b[39m\u001b[39mThe first argument must be a string or a callable with a __name__ \u001b[39m\u001b[39m\"\u001b[39m\n\u001b[1;32m    <a href='file:///~/miniconda3/envs/test/lib/python3.10/site-packages/langchain_core/tools/convert.py?line=319'>320</a>\u001b[0m             \u001b[39mf\u001b[39m\u001b[39m\"\u001b[39m\u001b[39mfor tool decorator. Got \u001b[39m\u001b[39m{\u001b[39;00m\u001b[39mtype\u001b[39m(name_or_callable)\u001b[39m}\u001b[39;00m\u001b[39m\"\u001b[39m\n\u001b[1;32m    <a href='file:///~/miniconda3/envs/test/lib/python3.10/site-packages/langchain_core/tools/convert.py?line=320'>321</a>\u001b[0m         )\n\u001b[0;32m--> <a href='file:///~/miniconda3/envs/test/lib/python3.10/site-packages/langchain_core/tools/convert.py?line=321'>322</a>\u001b[0m         \u001b[39mraise\u001b[39;00m \u001b[39mValueError\u001b[39;00m(msg)\n\u001b[1;32m    <a href='file:///~/miniconda3/envs/test/lib/python3.10/site-packages/langchain_core/tools/convert.py?line=322'>323</a>\u001b[0m \u001b[39melse\u001b[39;00m:\n\u001b[1;32m    <a href='file:///~/miniconda3/envs/test/lib/python3.10/site-packages/langchain_core/tools/convert.py?line=323'>324</a>\u001b[0m     \u001b[39m# Tool is used as a decorator with parameters specified\u001b[39;00m\n\u001b[1;32m    <a href='file:///~/miniconda3/envs/test/lib/python3.10/site-packages/langchain_core/tools/convert.py?line=324'>325</a>\u001b[0m     \u001b[39m# @tool(parse_docstring=True)\u001b[39;00m\n\u001b[1;32m    <a href='file:///~/miniconda3/envs/test/lib/python3.10/site-packages/langchain_core/tools/convert.py?line=325'>326</a>\u001b[0m     \u001b[39m# def my_tool():\u001b[39;00m\n\u001b[1;32m    <a href='file:///~/miniconda3/envs/test/lib/python3.10/site-packages/langchain_core/tools/convert.py?line=326'>327</a>\u001b[0m     \u001b[39m#    pass\u001b[39;00m\n\u001b[1;32m    <a href='file:///~/miniconda3/envs/test/lib/python3.10/site-packages/langchain_core/tools/convert.py?line=327'>328</a>\u001b[0m     \u001b[39mdef\u001b[39;00m \u001b[39m_partial\u001b[39m(func: Union[Callable, Runnable]) \u001b[39m-\u001b[39m\u001b[39m>\u001b[39m BaseTool:\n",
      "\u001b[0;31mValueError\u001b[0m: The first argument must be a string or a callable with a __name__ for tool decorator. Got <class 'tuple'>"
     ]
    }
   ],
   "source": [
    "from langchain_core.messages import HumanMessage\n",
    "from langgraph.prebuilt import create_react_agent\n",
    "\n",
    "system_message = prompt_template.format(dialect=\"SQLite\", top_k=3)\n",
    "agent_executor = create_react_agent(model, toolkit, state_modifier=system_message)"
   ]
  },
  {
   "cell_type": "code",
   "execution_count": 90,
   "metadata": {},
   "outputs": [],
   "source": [
    "def process_sql_response(response):\n",
    "    # Extract SQL query\n",
    "    sql_match = re.search(r'SELECT.*?;', response, re.IGNORECASE | re.DOTALL)\n",
    "    if sql_match:\n",
    "        sql_query = sql_match.group(0).strip()\n",
    "        st.code(sql_query, language='sql')\n",
    "    else:\n",
    "        st.write(\"No SQL query found in the response.\")\n",
    "    \n",
    "    # Extract table data\n",
    "    table_match = re.search(r'(NAME.*?)(?=\\n\\n|\\Z)', response, re.DOTALL)\n",
    "    if table_match:\n",
    "        table_data = table_match.group(1).strip().split('\\n')\n",
    "        headers = table_data[0].split('\\t')\n",
    "        rows = [row.split('\\t') for row in table_data[1:]]\n",
    "        \n",
    "        df = pd.DataFrame(rows, columns=headers)\n",
    "        st.dataframe(df)\n",
    "    else:\n",
    "        st.write(\"No table output found in the response.\")\n",
    "    \n",
    "    # Display any additional information\n",
    "    additional_info = re.sub(r'SELECT.*?;|NAME.*', '', response, flags=re.DOTALL).strip()\n",
    "    if additional_info:\n",
    "        st.write(\"Additional Information:\")\n",
    "        st.write(additional_info)"
   ]
  },
  {
   "cell_type": "code",
   "execution_count": 91,
   "metadata": {},
   "outputs": [
    {
     "name": "stderr",
     "output_type": "stream",
     "text": [
      "2025-01-20 00:05:28.487 WARNING streamlit.runtime.scriptrunner_utils.script_run_context: Thread 'MainThread': missing ScriptRunContext! This warning can be ignored when running in bare mode.\n",
      "2025-01-20 00:05:28.533 \n",
      "  \u001b[33m\u001b[1mWarning:\u001b[0m to view this Streamlit app on a browser, run it with the following\n",
      "  command:\n",
      "\n",
      "    streamlit run /home/himanshulalarya/miniconda3/envs/test/lib/python3.10/site-packages/ipykernel_launcher.py [ARGUMENTS]\n",
      "2025-01-20 00:05:28.534 Thread 'MainThread': missing ScriptRunContext! This warning can be ignored when running in bare mode.\n",
      "2025-01-20 00:05:28.539 Thread 'MainThread': missing ScriptRunContext! This warning can be ignored when running in bare mode.\n",
      "2025-01-20 00:05:28.539 Thread 'MainThread': missing ScriptRunContext! This warning can be ignored when running in bare mode.\n",
      "2025-01-20 00:05:28.540 Thread 'MainThread': missing ScriptRunContext! This warning can be ignored when running in bare mode.\n",
      "2025-01-20 00:05:28.540 Thread 'MainThread': missing ScriptRunContext! This warning can be ignored when running in bare mode.\n",
      "2025-01-20 00:05:28.541 Thread 'MainThread': missing ScriptRunContext! This warning can be ignored when running in bare mode.\n",
      "2025-01-20 00:05:28.542 Thread 'MainThread': missing ScriptRunContext! This warning can be ignored when running in bare mode.\n",
      "2025-01-20 00:05:28.542 Thread 'MainThread': missing ScriptRunContext! This warning can be ignored when running in bare mode.\n",
      "2025-01-20 00:05:28.542 Thread 'MainThread': missing ScriptRunContext! This warning can be ignored when running in bare mode.\n",
      "2025-01-20 00:05:28.543 Thread 'MainThread': missing ScriptRunContext! This warning can be ignored when running in bare mode.\n",
      "2025-01-20 00:05:28.543 Thread 'MainThread': missing ScriptRunContext! This warning can be ignored when running in bare mode.\n"
     ]
    }
   ],
   "source": [
    "import re\n",
    "import streamlit as st\n",
    "import pandas as pd\n",
    "\n",
    "process_sql_response(response)"
   ]
  },
  {
   "cell_type": "code",
   "execution_count": null,
   "metadata": {},
   "outputs": [],
   "source": []
  }
 ],
 "metadata": {
  "kernelspec": {
   "display_name": "test",
   "language": "python",
   "name": "test"
  },
  "language_info": {
   "codemirror_mode": {
    "name": "ipython",
    "version": 3
   },
   "file_extension": ".py",
   "mimetype": "text/x-python",
   "name": "python",
   "nbconvert_exporter": "python",
   "pygments_lexer": "ipython3",
   "version": "3.10.13"
  },
  "orig_nbformat": 4
 },
 "nbformat": 4,
 "nbformat_minor": 2
}
